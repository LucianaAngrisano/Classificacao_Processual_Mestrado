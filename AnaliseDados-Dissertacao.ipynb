{
 "cells": [
  {
   "cell_type": "code",
   "execution_count": 2,
   "id": "47d73f2f",
   "metadata": {},
   "outputs": [],
   "source": [
    "import pandas as pd\n",
    "import matplotlib.pyplot as plt\n",
    "\n",
    "# Cria objeto com o caminho da pasta do Projeto\n",
    "from pathlib import Path\n",
    "#pasta_projeto = Path('/content/drive/MyDrive/AGU_Notebooks/Labs R2D2/')\n",
    "pasta_projeto = Path(Path.cwd())\n"
   ]
  },
  {
   "cell_type": "code",
   "execution_count": 3,
   "id": "78057571",
   "metadata": {},
   "outputs": [
    {
     "name": "stdout",
     "output_type": "stream",
     "text": [
      "(35651, 6)\n"
     ]
    }
   ],
   "source": [
    "dados = pd.read_parquet(pasta_projeto /'dataset_tratado.parquet')\n",
    "dados\n",
    "print(dados.shape)\n"
   ]
  },
  {
   "cell_type": "code",
   "execution_count": 4,
   "id": "1b02cf65",
   "metadata": {},
   "outputs": [
    {
     "data": {
      "text/html": [
       "<div>\n",
       "<style scoped>\n",
       "    .dataframe tbody tr th:only-of-type {\n",
       "        vertical-align: middle;\n",
       "    }\n",
       "\n",
       "    .dataframe tbody tr th {\n",
       "        vertical-align: top;\n",
       "    }\n",
       "\n",
       "    .dataframe thead th {\n",
       "        text-align: right;\n",
       "    }\n",
       "</style>\n",
       "<table border=\"1\" class=\"dataframe\">\n",
       "  <thead>\n",
       "    <tr style=\"text-align: right;\">\n",
       "      <th></th>\n",
       "      <th>cnj</th>\n",
       "      <th>orgao</th>\n",
       "      <th>classe</th>\n",
       "      <th>tipo</th>\n",
       "      <th>coordenacao</th>\n",
       "      <th>peticao_processada</th>\n",
       "    </tr>\n",
       "  </thead>\n",
       "  <tbody>\n",
       "    <tr>\n",
       "      <th>0</th>\n",
       "      <td>10437601020204013300</td>\n",
       "      <td>2ª RELATORIA DA 3ª TURMA RECURSAL DA SJBA</td>\n",
       "      <td>RECURSO INOMINADO CÍVEL</td>\n",
       "      <td>INDENIZAÇÃO POR DANO AMBIENTAL</td>\n",
       "      <td>COREJEF</td>\n",
       "      <td>vara juizados especiais federais secao judicia...</td>\n",
       "    </tr>\n",
       "    <tr>\n",
       "      <th>1</th>\n",
       "      <td>10028658120234013500</td>\n",
       "      <td>1ª VARA FEDERAL CÍVEL DA SJGO</td>\n",
       "      <td>CUMPRIMENTO DE SENTENÇA DE AÇÕES COLETIVAS</td>\n",
       "      <td>ÍNDICE DE 3,17%</td>\n",
       "      <td>CORESE</td>\n",
       "      <td>juizo 1 vara secao judiciaria estado goias dis...</td>\n",
       "    </tr>\n",
       "    <tr>\n",
       "      <th>2</th>\n",
       "      <td>10028363120234013500</td>\n",
       "      <td>1ª VARA FEDERAL CÍVEL DA SJGO</td>\n",
       "      <td>CUMPRIMENTO DE SENTENÇA DE AÇÕES COLETIVAS</td>\n",
       "      <td>ÍNDICE DE 3,17%</td>\n",
       "      <td>CORESE</td>\n",
       "      <td>juizo 1 vara secao judiciaria estado goias dis...</td>\n",
       "    </tr>\n",
       "    <tr>\n",
       "      <th>3</th>\n",
       "      <td>10028622920234013500</td>\n",
       "      <td>1ª VARA FEDERAL CÍVEL DA SJGO</td>\n",
       "      <td>CUMPRIMENTO DE SENTENÇA DE AÇÕES COLETIVAS</td>\n",
       "      <td>ÍNDICE DE 3,17%</td>\n",
       "      <td>CORESE</td>\n",
       "      <td>juizo 1 vara secao judiciaria estado goias dis...</td>\n",
       "    </tr>\n",
       "    <tr>\n",
       "      <th>4</th>\n",
       "      <td>10030355320234013500</td>\n",
       "      <td>1ª VARA FEDERAL CÍVEL DA SJGO</td>\n",
       "      <td>CUMPRIMENTO DE SENTENÇA DE AÇÕES COLETIVAS</td>\n",
       "      <td>ÍNDICE DE 3,17%</td>\n",
       "      <td>CORESE</td>\n",
       "      <td>juizo 1 vara secao judiciaria estado goias dis...</td>\n",
       "    </tr>\n",
       "    <tr>\n",
       "      <th>...</th>\n",
       "      <td>...</td>\n",
       "      <td>...</td>\n",
       "      <td>...</td>\n",
       "      <td>...</td>\n",
       "      <td>...</td>\n",
       "      <td>...</td>\n",
       "    </tr>\n",
       "    <tr>\n",
       "      <th>35646</th>\n",
       "      <td>10592721920234013400</td>\n",
       "      <td>4ª VARA FEDERAL CÍVEL DA SJDF</td>\n",
       "      <td>CUMPRIMENTO DE SENTENÇA DE AÇÕES COLETIVAS</td>\n",
       "      <td>REAJUSTES DE REMUNERAÇÃO, PROVENTOS OU PENSÃO</td>\n",
       "      <td>CRN</td>\n",
       "      <td>1 4 vara civel secao judiciaria distrito distr...</td>\n",
       "    </tr>\n",
       "    <tr>\n",
       "      <th>35647</th>\n",
       "      <td>10599157420234013400</td>\n",
       "      <td>4ª VARA FEDERAL CÍVEL DA SJDF</td>\n",
       "      <td>CUMPRIMENTO DE SENTENÇA DE AÇÕES COLETIVAS</td>\n",
       "      <td>REAJUSTES DE REMUNERAÇÃO, PROVENTOS OU PENSÃO</td>\n",
       "      <td>CORESE</td>\n",
       "      <td>1 4 vara secao judiciaria distrito distribuica...</td>\n",
       "    </tr>\n",
       "    <tr>\n",
       "      <th>35648</th>\n",
       "      <td>10638251220234013400</td>\n",
       "      <td>4ª VARA FEDERAL CÍVEL DA SJDF</td>\n",
       "      <td>CUMPRIMENTO DE SENTENÇA DE AÇÕES COLETIVAS</td>\n",
       "      <td>REAJUSTES DE REMUNERAÇÃO, PROVENTOS OU PENSÃO</td>\n",
       "      <td>CORESE</td>\n",
       "      <td>vara subsecao judiciaria distrito ref cumprime...</td>\n",
       "    </tr>\n",
       "    <tr>\n",
       "      <th>35649</th>\n",
       "      <td>10631903120234013400</td>\n",
       "      <td>22ª VARA FEDERAL CÍVEL DA SJDF</td>\n",
       "      <td>PROCEDIMENTO COMUM CÍVEL</td>\n",
       "      <td>DANO MORAL - DDT (DICLORO-DIFENIL-TRICLOROETANO)</td>\n",
       "      <td>CORESE</td>\n",
       "      <td>d vara brasilia secao judiciaria distrito df j...</td>\n",
       "    </tr>\n",
       "    <tr>\n",
       "      <th>35650</th>\n",
       "      <td>10622592820234013400</td>\n",
       "      <td>NÚCLEO DE JUSTIÇA 4.0 - APOIO OIAPOQUE</td>\n",
       "      <td>CUMPRIMENTO DE SENTENÇA CONTRA A FAZENDA PÚBLICA</td>\n",
       "      <td>COMPLEMENTAÇÃO DE APOSENTADORIA / PENSÃO</td>\n",
       "      <td>CORESE</td>\n",
       "      <td>adailton rocha teixeira luis pereira lima filh...</td>\n",
       "    </tr>\n",
       "  </tbody>\n",
       "</table>\n",
       "<p>35651 rows × 6 columns</p>\n",
       "</div>"
      ],
      "text/plain": [
       "                        cnj                                      orgao  \\\n",
       "0      10437601020204013300  2ª RELATORIA DA 3ª TURMA RECURSAL DA SJBA   \n",
       "1      10028658120234013500              1ª VARA FEDERAL CÍVEL DA SJGO   \n",
       "2      10028363120234013500              1ª VARA FEDERAL CÍVEL DA SJGO   \n",
       "3      10028622920234013500              1ª VARA FEDERAL CÍVEL DA SJGO   \n",
       "4      10030355320234013500              1ª VARA FEDERAL CÍVEL DA SJGO   \n",
       "...                     ...                                        ...   \n",
       "35646  10592721920234013400              4ª VARA FEDERAL CÍVEL DA SJDF   \n",
       "35647  10599157420234013400              4ª VARA FEDERAL CÍVEL DA SJDF   \n",
       "35648  10638251220234013400              4ª VARA FEDERAL CÍVEL DA SJDF   \n",
       "35649  10631903120234013400             22ª VARA FEDERAL CÍVEL DA SJDF   \n",
       "35650  10622592820234013400     NÚCLEO DE JUSTIÇA 4.0 - APOIO OIAPOQUE   \n",
       "\n",
       "                                                 classe  \\\n",
       "0                               RECURSO INOMINADO CÍVEL   \n",
       "1            CUMPRIMENTO DE SENTENÇA DE AÇÕES COLETIVAS   \n",
       "2            CUMPRIMENTO DE SENTENÇA DE AÇÕES COLETIVAS   \n",
       "3            CUMPRIMENTO DE SENTENÇA DE AÇÕES COLETIVAS   \n",
       "4            CUMPRIMENTO DE SENTENÇA DE AÇÕES COLETIVAS   \n",
       "...                                                 ...   \n",
       "35646        CUMPRIMENTO DE SENTENÇA DE AÇÕES COLETIVAS   \n",
       "35647        CUMPRIMENTO DE SENTENÇA DE AÇÕES COLETIVAS   \n",
       "35648        CUMPRIMENTO DE SENTENÇA DE AÇÕES COLETIVAS   \n",
       "35649                          PROCEDIMENTO COMUM CÍVEL   \n",
       "35650  CUMPRIMENTO DE SENTENÇA CONTRA A FAZENDA PÚBLICA   \n",
       "\n",
       "                                                   tipo coordenacao  \\\n",
       "0                        INDENIZAÇÃO POR DANO AMBIENTAL     COREJEF   \n",
       "1                                       ÍNDICE DE 3,17%      CORESE   \n",
       "2                                       ÍNDICE DE 3,17%      CORESE   \n",
       "3                                       ÍNDICE DE 3,17%      CORESE   \n",
       "4                                       ÍNDICE DE 3,17%      CORESE   \n",
       "...                                                 ...         ...   \n",
       "35646     REAJUSTES DE REMUNERAÇÃO, PROVENTOS OU PENSÃO         CRN   \n",
       "35647     REAJUSTES DE REMUNERAÇÃO, PROVENTOS OU PENSÃO      CORESE   \n",
       "35648     REAJUSTES DE REMUNERAÇÃO, PROVENTOS OU PENSÃO      CORESE   \n",
       "35649  DANO MORAL - DDT (DICLORO-DIFENIL-TRICLOROETANO)      CORESE   \n",
       "35650          COMPLEMENTAÇÃO DE APOSENTADORIA / PENSÃO      CORESE   \n",
       "\n",
       "                                      peticao_processada  \n",
       "0      vara juizados especiais federais secao judicia...  \n",
       "1      juizo 1 vara secao judiciaria estado goias dis...  \n",
       "2      juizo 1 vara secao judiciaria estado goias dis...  \n",
       "3      juizo 1 vara secao judiciaria estado goias dis...  \n",
       "4      juizo 1 vara secao judiciaria estado goias dis...  \n",
       "...                                                  ...  \n",
       "35646  1 4 vara civel secao judiciaria distrito distr...  \n",
       "35647  1 4 vara secao judiciaria distrito distribuica...  \n",
       "35648  vara subsecao judiciaria distrito ref cumprime...  \n",
       "35649  d vara brasilia secao judiciaria distrito df j...  \n",
       "35650  adailton rocha teixeira luis pereira lima filh...  \n",
       "\n",
       "[35651 rows x 6 columns]"
      ]
     },
     "execution_count": 4,
     "metadata": {},
     "output_type": "execute_result"
    }
   ],
   "source": [
    "dados"
   ]
  },
  {
   "cell_type": "code",
   "execution_count": 5,
   "id": "d38955cd",
   "metadata": {},
   "outputs": [
    {
     "name": "stdout",
     "output_type": "stream",
     "text": [
      "(35651, 6)\n"
     ]
    },
    {
     "data": {
      "text/plain": [
       "coordenacao\n",
       "COREJEF      13221\n",
       "CORESP       11999\n",
       "CORESE        3759\n",
       "CORESA        1951\n",
       "COREM         1111\n",
       "CRN           1080\n",
       "ARQUIVO        700\n",
       "COREPAM        613\n",
       "OUTROS         513\n",
       "CORAT          367\n",
       "CGJ            140\n",
       "PROTOCOLO       82\n",
       "CORETRAB        55\n",
       "COREPRO         35\n",
       "CGAEST          23\n",
       "GAB              1\n",
       "COREGEST         1\n",
       "Name: count, dtype: int64"
      ]
     },
     "execution_count": 5,
     "metadata": {},
     "output_type": "execute_result"
    }
   ],
   "source": [
    "print(dados.shape)\n",
    "dados['coordenacao'].value_counts()"
   ]
  },
  {
   "cell_type": "code",
   "execution_count": 6,
   "id": "f778727c",
   "metadata": {},
   "outputs": [
    {
     "data": {
      "text/plain": [
       "0"
      ]
     },
     "execution_count": 6,
     "metadata": {},
     "output_type": "execute_result"
    }
   ],
   "source": [
    "sum(dados['cnj'].value_counts() > 1)"
   ]
  },
  {
   "cell_type": "code",
   "execution_count": 7,
   "id": "20144c41",
   "metadata": {},
   "outputs": [],
   "source": [
    "#remove linhas com numero de processos duplicadas\n",
    "#dados = dados.drop_duplicates(subset=['cnj'])"
   ]
  },
  {
   "cell_type": "code",
   "execution_count": 8,
   "id": "373cf425",
   "metadata": {},
   "outputs": [
    {
     "name": "stdout",
     "output_type": "stream",
     "text": [
      "Requirement already satisfied: missingno in c:\\users\\luciana.angrisano\\anaconda3\\lib\\site-packages (0.4.2)\n",
      "Requirement already satisfied: numpy in c:\\users\\luciana.angrisano\\anaconda3\\lib\\site-packages (from missingno) (1.24.3)\n",
      "Requirement already satisfied: matplotlib in c:\\users\\luciana.angrisano\\anaconda3\\lib\\site-packages (from missingno) (3.7.2)\n",
      "Requirement already satisfied: scipy in c:\\users\\luciana.angrisano\\anaconda3\\lib\\site-packages (from missingno) (1.11.3)\n",
      "Requirement already satisfied: seaborn in c:\\users\\luciana.angrisano\\anaconda3\\lib\\site-packages (from missingno) (0.12.2)\n",
      "Requirement already satisfied: contourpy>=1.0.1 in c:\\users\\luciana.angrisano\\anaconda3\\lib\\site-packages (from matplotlib->missingno) (1.0.5)\n",
      "Requirement already satisfied: cycler>=0.10 in c:\\users\\luciana.angrisano\\anaconda3\\lib\\site-packages (from matplotlib->missingno) (0.11.0)\n",
      "Requirement already satisfied: fonttools>=4.22.0 in c:\\users\\luciana.angrisano\\anaconda3\\lib\\site-packages (from matplotlib->missingno) (4.25.0)\n",
      "Requirement already satisfied: kiwisolver>=1.0.1 in c:\\users\\luciana.angrisano\\anaconda3\\lib\\site-packages (from matplotlib->missingno) (1.4.4)\n",
      "Requirement already satisfied: packaging>=20.0 in c:\\users\\luciana.angrisano\\anaconda3\\lib\\site-packages (from matplotlib->missingno) (23.1)\n",
      "Requirement already satisfied: pillow>=6.2.0 in c:\\users\\luciana.angrisano\\anaconda3\\lib\\site-packages (from matplotlib->missingno) (10.0.1)\n",
      "Requirement already satisfied: pyparsing<3.1,>=2.3.1 in c:\\users\\luciana.angrisano\\anaconda3\\lib\\site-packages (from matplotlib->missingno) (3.0.9)\n",
      "Requirement already satisfied: python-dateutil>=2.7 in c:\\users\\luciana.angrisano\\anaconda3\\lib\\site-packages (from matplotlib->missingno) (2.8.2)\n",
      "Requirement already satisfied: importlib-resources>=3.2.0 in c:\\users\\luciana.angrisano\\anaconda3\\lib\\site-packages (from matplotlib->missingno) (5.2.0)\n",
      "Requirement already satisfied: pandas>=0.25 in c:\\users\\luciana.angrisano\\anaconda3\\lib\\site-packages (from seaborn->missingno) (2.1.1)\n",
      "Requirement already satisfied: zipp>=3.1.0 in c:\\users\\luciana.angrisano\\anaconda3\\lib\\site-packages (from importlib-resources>=3.2.0->matplotlib->missingno) (3.11.0)\n",
      "Requirement already satisfied: pytz>=2020.1 in c:\\users\\luciana.angrisano\\anaconda3\\lib\\site-packages (from pandas>=0.25->seaborn->missingno) (2023.3.post1)\n",
      "Requirement already satisfied: tzdata>=2022.1 in c:\\users\\luciana.angrisano\\anaconda3\\lib\\site-packages (from pandas>=0.25->seaborn->missingno) (2023.3)\n",
      "Requirement already satisfied: six>=1.5 in c:\\users\\luciana.angrisano\\anaconda3\\lib\\site-packages (from python-dateutil>=2.7->matplotlib->missingno) (1.16.0)\n",
      "Note: you may need to restart the kernel to use updated packages.\n"
     ]
    },
    {
     "name": "stderr",
     "output_type": "stream",
     "text": [
      "WARNING: Ignoring invalid distribution -ip (c:\\users\\luciana.angrisano\\anaconda3\\lib\\site-packages)\n",
      "WARNING: Ignoring invalid distribution -ip (c:\\users\\luciana.angrisano\\anaconda3\\lib\\site-packages)\n",
      "WARNING: There was an error checking the latest version of pip.\n"
     ]
    }
   ],
   "source": [
    "pip install missingno"
   ]
  },
  {
   "cell_type": "code",
   "execution_count": 9,
   "id": "78bc2a7d",
   "metadata": {},
   "outputs": [
    {
     "data": {
      "text/plain": [
       "<Axes: >"
      ]
     },
     "execution_count": 9,
     "metadata": {},
     "output_type": "execute_result"
    },
    {
     "data": {
      "image/png": "[encoded data removed]",
      "text/plain": [
       "<Figure size 2400x1000 with 3 Axes>"
      ]
     },
     "metadata": {},
     "output_type": "display_data"
    }
   ],
   "source": [
    "# Importa biblioteca para visualização gráfica de dados faltantes\n",
    "import missingno as msno\n",
    "# Plota gráfico de barras do dataframe com a indicação da quantidade de dados existentes em cada linha\n",
    "msno.bar(dados)"
   ]
  },
  {
   "cell_type": "code",
   "execution_count": 10,
   "id": "07b69ed9",
   "metadata": {},
   "outputs": [],
   "source": [
    "# Lista as linhas da coluna com dados faltantes\n",
    "#dados.loc[dados['nomecoluna'].isna()]"
   ]
  },
  {
   "cell_type": "code",
   "execution_count": 11,
   "id": "e7220a94",
   "metadata": {},
   "outputs": [
    {
     "data": {
      "text/plain": [
       "classe\n",
       "PROCEDIMENTO DO JUIZADO ESPECIAL CÍVEL                       11579\n",
       "PROCEDIMENTO COMUM CÍVEL                                     10078\n",
       "MANDADO DE SEGURANÇA CÍVEL                                    3544\n",
       "CUMPRIMENTO DE SENTENÇA CONTRA A FAZENDA PÚBLICA              3388\n",
       "RECURSO INOMINADO CÍVEL                                       3095\n",
       "APELAÇÃO CÍVEL                                                 842\n",
       "REMESSA NECESSÁRIA CÍVEL                                       526\n",
       "EXECUÇÃO DE TÍTULO EXTRAJUDICIAL                               347\n",
       "REINTEGRAÇÃO / MANUTENÇÃO DE POSSE                             346\n",
       "CUMPRIMENTO DE SENTENÇA                                        291\n",
       "CUMPRIMENTO DE SENTENÇA DE AÇÕES COLETIVAS                     263\n",
       "CUMPRIMENTO PROVISÓRIO DE SENTENÇA                             232\n",
       "APELAÇÃO / REMESSA NECESSÁRIA                                  215\n",
       "AÇÃO CIVIL PÚBLICA                                             197\n",
       "TUTELA ANTECIPADA ANTECEDENTE                                   91\n",
       "PETIÇÃO CÍVEL                                                   84\n",
       "EMBARGOS DE DECLARAÇÃO CÍVEL                                    64\n",
       "EMBARGOS DE TERCEIRO CÍVEL                                      52\n",
       "TUTELA CAUTELAR ANTECEDENTE                                     52\n",
       "AÇÃO CIVIL COLETIVA                                             37\n",
       "AÇÃO POPULAR                                                    31\n",
       "LIQUIDAÇÃO POR ARBITRAMENTO                                     29\n",
       "EMBARGOS À EXECUÇÃO FISCAL                                      26\n",
       "LIQUIDAÇÃO DE SENTENÇA PELO PROCEDIMENTO COMUM                  23\n",
       "AÇÃO CIVIL DE IMPROBIDADE ADMINISTRATIVA                        22\n",
       "USUCAPIÃO                                                       21\n",
       "MANDADO DE SEGURANÇA COLETIVO                                   19\n",
       "CARTA PRECATÓRIA CÍVEL                                          18\n",
       "EMBARGOS À EXECUÇÃO                                             15\n",
       "PRODUÇÃO ANTECIPADA DA PROVA                                    13\n",
       "HABEAS DATA CÍVEL                                               12\n",
       "EXECUÇÃO FISCAL                                                  9\n",
       "LIQUIDAÇÃO PROVISÓRIA DE SENTENÇA PELO PROCEDIMENTO COMUM        9\n",
       "EXIBIÇÃO DE DOCUMENTO OU COISA CÍVEL                             9\n",
       "PROTESTO                                                         8\n",
       "ALIENAÇÃO DE BENS DO ACUSADO                                     7\n",
       "CUMPRIMENTO PROVISÓRIO DE DECISÃO                                7\n",
       "MONITÓRIA                                                        7\n",
       "CUMPRIMENTO PROVISÓRIO DE SENTENÇA DE AÇÕES COLETIVAS            6\n",
       "INTERDITO PROIBITÓRIO                                            5\n",
       "PEDIDO DE UNIFORMIZAÇÃO DE INTERPRETAÇÃO DE LEI CÍVEL            4\n",
       "OPOSIÇÃO                                                         3\n",
       "DESAPROPRIAÇÃO                                                   3\n",
       "HABEAS CORPUS CRIMINAL                                           3\n",
       "EMBARGOS DE TERCEIRO CRIMINAL                                    3\n",
       "RESTAURAÇÃO DE AUTOS CÍVEL                                       2\n",
       "DESAPROPRIAÇÃO IMÓVEL RURAL POR INTERESSE SOCIAL                 2\n",
       "CONSIGNAÇÃO EM PAGAMENTO                                         2\n",
       "OUTROS PROCEDIMENTOS DE JURISDIÇÃO VOLUNTÁRIA                    2\n",
       "AGRAVO INTERNO CÍVEL                                             1\n",
       "DEMARCAÇÃO / DIVISÃO                                             1\n",
       "RESTITUIÇÃO DE COISAS APREENDIDAS                                1\n",
       "RECLAMAÇÃO PRÉ-PROCESSUAL                                        1\n",
       "PETIÇÃO CRIMINAL                                                 1\n",
       "LIQUIDAÇÃO PROVISÓRIA POR ARBITRAMENTO                           1\n",
       "INTERPELAÇÃO                                                     1\n",
       "NOTIFICAÇÃO                                                      1\n",
       "Name: count, dtype: int64"
      ]
     },
     "execution_count": 11,
     "metadata": {},
     "output_type": "execute_result"
    }
   ],
   "source": [
    "dados['classe'].value_counts()"
   ]
  },
  {
   "cell_type": "code",
   "execution_count": 12,
   "id": "7e076c69",
   "metadata": {},
   "outputs": [
    {
     "data": {
      "text/plain": [
       "tipo\n",
       "INDENIZAÇÃO POR DANO MORAL                      6398\n",
       "FIES                                            5857\n",
       "ÍNDICE DE 13,23% (LEI 10698/2003)               1347\n",
       "ABONO DE PERMANÊNCIA                             794\n",
       "SEGURO DESEMPREGO                                662\n",
       "                                                ... \n",
       "DIFERENÇAS POR DESVIO DE FUNÇÃO                    1\n",
       "RMI DA PENSÃO DE DEPENDENTE DE EX-COMBATENTE       1\n",
       "PRODUTOS CONTROLADOS / PERIGOSOS                   1\n",
       "DIÁLISE/HEMODIÁLISE                                1\n",
       "COMPLEMENTAÇÃO DE APOSENTADORIA / PENSÃO           1\n",
       "Name: count, Length: 794, dtype: int64"
      ]
     },
     "execution_count": 12,
     "metadata": {},
     "output_type": "execute_result"
    }
   ],
   "source": [
    "dados['tipo'].value_counts()"
   ]
  },
  {
   "cell_type": "code",
   "execution_count": 13,
   "id": "03b158f5",
   "metadata": {},
   "outputs": [
    {
     "name": "stdout",
     "output_type": "stream",
     "text": [
      "                                       classe coordenacao\n",
      "13     PROCEDIMENTO DO JUIZADO ESPECIAL CÍVEL     COREJEF\n",
      "14     PROCEDIMENTO DO JUIZADO ESPECIAL CÍVEL     COREJEF\n",
      "15     PROCEDIMENTO DO JUIZADO ESPECIAL CÍVEL     COREJEF\n",
      "16     PROCEDIMENTO DO JUIZADO ESPECIAL CÍVEL     COREJEF\n",
      "17     PROCEDIMENTO DO JUIZADO ESPECIAL CÍVEL     ARQUIVO\n",
      "...                                       ...         ...\n",
      "35499  PROCEDIMENTO DO JUIZADO ESPECIAL CÍVEL     COREJEF\n",
      "35536  PROCEDIMENTO DO JUIZADO ESPECIAL CÍVEL      CORESP\n",
      "35607  PROCEDIMENTO DO JUIZADO ESPECIAL CÍVEL     COREJEF\n",
      "35612  PROCEDIMENTO DO JUIZADO ESPECIAL CÍVEL     COREJEF\n",
      "35618  PROCEDIMENTO DO JUIZADO ESPECIAL CÍVEL         CRN\n",
      "\n",
      "[11579 rows x 2 columns]\n"
     ]
    },
    {
     "data": {
      "text/plain": [
       "<Axes: xlabel='coordenacao'>"
      ]
     },
     "execution_count": 13,
     "metadata": {},
     "output_type": "execute_result"
    },
    {
     "data": {
      "image/png": "[encoded data removed]",
      "text/plain": [
       "<Figure size 640x480 with 1 Axes>"
      ]
     },
     "metadata": {},
     "output_type": "display_data"
    }
   ],
   "source": [
    "# Filtrar as linhas com base na condição desejada\n",
    "condicao = (dados['classe'] == 'PROCEDIMENTO DO JUIZADO ESPECIAL CÍVEL')  # Substitua 'sua_condicao' pela condição desejada\n",
    "dados_filtrados = dados[condicao]\n",
    "\n",
    "# Selecionar apenas as colunas desejadas\n",
    "colunas_selecionadas = dados_filtrados[['classe', 'coordenacao']]\n",
    "\n",
    "# Mostrar as linhas filtradas com as colunas selecionadas\n",
    "print(colunas_selecionadas)\n",
    "\n",
    "dados_filtrados['coordenacao'].value_counts().plot(kind='bar')\n"
   ]
  },
  {
   "cell_type": "code",
   "execution_count": 14,
   "id": "f0b29a9a",
   "metadata": {},
   "outputs": [
    {
     "data": {
      "text/html": [
       "<div>\n",
       "<style scoped>\n",
       "    .dataframe tbody tr th:only-of-type {\n",
       "        vertical-align: middle;\n",
       "    }\n",
       "\n",
       "    .dataframe tbody tr th {\n",
       "        vertical-align: top;\n",
       "    }\n",
       "\n",
       "    .dataframe thead th {\n",
       "        text-align: right;\n",
       "    }\n",
       "</style>\n",
       "<table border=\"1\" class=\"dataframe\">\n",
       "  <thead>\n",
       "    <tr style=\"text-align: right;\">\n",
       "      <th></th>\n",
       "      <th>tipo</th>\n",
       "      <th>coordenacao</th>\n",
       "    </tr>\n",
       "  </thead>\n",
       "  <tbody>\n",
       "  </tbody>\n",
       "</table>\n",
       "</div>"
      ],
      "text/plain": [
       "Empty DataFrame\n",
       "Columns: [tipo, coordenacao]\n",
       "Index: []"
      ]
     },
     "execution_count": 14,
     "metadata": {},
     "output_type": "execute_result"
    }
   ],
   "source": [
    "condicao2 = (dados['tipo'] == 'AUXÍLIO EMERGENCIAL')  # Substitua 'sua_condicao' pela condição desejada\n",
    "dados_filtrados2 = dados[condicao2]\n",
    "\n",
    "colunas_selecionadas2 = dados_filtrados2[['tipo', 'coordenacao']]\n",
    "\n",
    "colunas_selecionadas2\n",
    "\n",
    "#####COREJEFAE"
   ]
  },
  {
   "cell_type": "code",
   "execution_count": 15,
   "id": "a2334478",
   "metadata": {},
   "outputs": [],
   "source": [
    "########limpa os dados em que a classe não é juizado\n",
    "\n",
    "\n",
    "# Filtrar as linhas em que classe NÃO é igual a \"juizado especial\"\n",
    "#dados = dados[dados['classe'] != 'PROCEDIMENTO DO JUIZADO ESPECIAL CÍVEL']\n",
    "\n",
    "# Agora, dados_filtrados contém apenas as linhas em que classe NÃO é igual a \"juizado especial\"\n",
    "#dados"
   ]
  },
  {
   "cell_type": "code",
   "execution_count": 16,
   "id": "cdcfe585",
   "metadata": {},
   "outputs": [
    {
     "name": "stdout",
     "output_type": "stream",
     "text": [
      "                                           classe coordenacao\n",
      "1      CUMPRIMENTO DE SENTENÇA DE AÇÕES COLETIVAS      CORESE\n",
      "2      CUMPRIMENTO DE SENTENÇA DE AÇÕES COLETIVAS      CORESE\n",
      "3      CUMPRIMENTO DE SENTENÇA DE AÇÕES COLETIVAS      CORESE\n",
      "4      CUMPRIMENTO DE SENTENÇA DE AÇÕES COLETIVAS      CORESE\n",
      "5      CUMPRIMENTO DE SENTENÇA DE AÇÕES COLETIVAS      CORESE\n",
      "...                                           ...         ...\n",
      "35644  CUMPRIMENTO DE SENTENÇA DE AÇÕES COLETIVAS      CORESE\n",
      "35645  CUMPRIMENTO DE SENTENÇA DE AÇÕES COLETIVAS      CORESE\n",
      "35646  CUMPRIMENTO DE SENTENÇA DE AÇÕES COLETIVAS         CRN\n",
      "35647  CUMPRIMENTO DE SENTENÇA DE AÇÕES COLETIVAS      CORESE\n",
      "35648  CUMPRIMENTO DE SENTENÇA DE AÇÕES COLETIVAS      CORESE\n",
      "\n",
      "[263 rows x 2 columns]\n"
     ]
    },
    {
     "data": {
      "text/plain": [
       "<Axes: xlabel='coordenacao'>"
      ]
     },
     "execution_count": 16,
     "metadata": {},
     "output_type": "execute_result"
    },
    {
     "data": {
      "image/png": "[encoded data removed]",
      "text/plain": [
       "<Figure size 640x480 with 1 Axes>"
      ]
     },
     "metadata": {},
     "output_type": "display_data"
    }
   ],
   "source": [
    "# Filtrar as linhas com base na condição desejada\n",
    "condicao3 = (dados['classe'] == 'CUMPRIMENTO DE SENTENÇA DE AÇÕES COLETIVAS')  # Substitua 'sua_condicao' pela condição desejada\n",
    "dados_filtrados3 = dados[condicao3]\n",
    "\n",
    "# Selecionar apenas as colunas desejadas\n",
    "colunas_selecionadas3 = dados_filtrados3[['classe', 'coordenacao']]\n",
    "\n",
    "# Mostrar as linhas filtradas com as colunas selecionadas\n",
    "print(colunas_selecionadas3)\n",
    "\n",
    "dados_filtrados3['coordenacao'].value_counts().plot(kind='bar')\n",
    "\n"
   ]
  },
  {
   "cell_type": "code",
   "execution_count": 17,
   "id": "ca23a150",
   "metadata": {},
   "outputs": [
    {
     "name": "stdout",
     "output_type": "stream",
     "text": [
      "(35651, 6)\n"
     ]
    },
    {
     "data": {
      "text/plain": [
       "coordenacao\n",
       "COREJEF      13221\n",
       "CORESP       11999\n",
       "CORESE        3759\n",
       "CORESA        1951\n",
       "COREM         1111\n",
       "CRN           1080\n",
       "ARQUIVO        700\n",
       "COREPAM        613\n",
       "OUTROS         513\n",
       "CORAT          367\n",
       "CGJ            140\n",
       "PROTOCOLO       82\n",
       "CORETRAB        55\n",
       "COREPRO         35\n",
       "CGAEST          23\n",
       "GAB              1\n",
       "COREGEST         1\n",
       "Name: count, dtype: int64"
      ]
     },
     "execution_count": 17,
     "metadata": {},
     "output_type": "execute_result"
    }
   ],
   "source": [
    "print(dados.shape)\n",
    "dados['coordenacao'].value_counts()"
   ]
  },
  {
   "cell_type": "code",
   "execution_count": 18,
   "id": "13361bbc",
   "metadata": {},
   "outputs": [
    {
     "data": {
      "text/plain": [
       "coordenacao\n",
       "COREJEF     13221\n",
       "CORESP      11999\n",
       "CORESE       3759\n",
       "CORESA       1951\n",
       "COREM        1111\n",
       "COREPAM       613\n",
       "CORAT         367\n",
       "CORETRAB       55\n",
       "COREPRO        35\n",
       "Name: count, dtype: int64"
      ]
     },
     "execution_count": 18,
     "metadata": {},
     "output_type": "execute_result"
    }
   ],
   "source": [
    "# Exclusão de linhas referentes a Coordenações não relevantes para o modelo\n",
    "for setor in ['CGJ', 'CRN', 'GAB', 'COREGEST', 'CGAEST', 'PROTOCOLO', 'CGJNINF', 'ARQUIVO', 'OUTROS']:  \n",
    "  filt = dados[dados['coordenacao'].str.contains(setor)]\n",
    "  dados = dados.drop(index=filt.index, axis=0)\n",
    "dados['coordenacao'].value_counts()"
   ]
  },
  {
   "cell_type": "code",
   "execution_count": 19,
   "id": "345020df",
   "metadata": {},
   "outputs": [
    {
     "data": {
      "text/plain": [
       "<Axes: xlabel='coordenacao'>"
      ]
     },
     "execution_count": 19,
     "metadata": {},
     "output_type": "execute_result"
    },
    {
     "data": {
      "image/png": "[encoded data removed]",
      "text/plain": [
       "<Figure size 640x480 with 1 Axes>"
      ]
     },
     "metadata": {},
     "output_type": "display_data"
    }
   ],
   "source": [
    "# Plota gráfico de barras com a quantidade de classes da variável target\n",
    "dados['coordenacao'].value_counts().plot(kind='bar')"
   ]
  },
  {
   "cell_type": "code",
   "execution_count": 20,
   "id": "651c9fd8",
   "metadata": {},
   "outputs": [],
   "source": [
    "dados.to_parquet(pasta_projeto /'dados_desbalanceados.parquet')"
   ]
  },
  {
   "cell_type": "code",
   "execution_count": 21,
   "id": "7f678f2b",
   "metadata": {},
   "outputs": [],
   "source": [
    "dados = pd.read_parquet(pasta_projeto /'dados_desbalanceados.parquet')"
   ]
  },
  {
   "cell_type": "code",
   "execution_count": 22,
   "id": "e8fa91c4",
   "metadata": {},
   "outputs": [
    {
     "data": {
      "text/html": [
       "<div>\n",
       "<style scoped>\n",
       "    .dataframe tbody tr th:only-of-type {\n",
       "        vertical-align: middle;\n",
       "    }\n",
       "\n",
       "    .dataframe tbody tr th {\n",
       "        vertical-align: top;\n",
       "    }\n",
       "\n",
       "    .dataframe thead th {\n",
       "        text-align: right;\n",
       "    }\n",
       "</style>\n",
       "<table border=\"1\" class=\"dataframe\">\n",
       "  <thead>\n",
       "    <tr style=\"text-align: right;\">\n",
       "      <th></th>\n",
       "      <th>cnj</th>\n",
       "      <th>orgao</th>\n",
       "      <th>classe</th>\n",
       "      <th>tipo</th>\n",
       "      <th>coordenacao</th>\n",
       "      <th>peticao_processada</th>\n",
       "    </tr>\n",
       "    <tr>\n",
       "      <th>index</th>\n",
       "      <th></th>\n",
       "      <th></th>\n",
       "      <th></th>\n",
       "      <th></th>\n",
       "      <th></th>\n",
       "      <th></th>\n",
       "    </tr>\n",
       "  </thead>\n",
       "  <tbody>\n",
       "    <tr>\n",
       "      <th>0</th>\n",
       "      <td>10437601020204013300</td>\n",
       "      <td>2ª RELATORIA DA 3ª TURMA RECURSAL DA SJBA</td>\n",
       "      <td>RECURSO INOMINADO CÍVEL</td>\n",
       "      <td>INDENIZAÇÃO POR DANO AMBIENTAL</td>\n",
       "      <td>COREJEF</td>\n",
       "      <td>vara juizados especiais federais secao judicia...</td>\n",
       "    </tr>\n",
       "    <tr>\n",
       "      <th>1</th>\n",
       "      <td>10028658120234013500</td>\n",
       "      <td>1ª VARA FEDERAL CÍVEL DA SJGO</td>\n",
       "      <td>CUMPRIMENTO DE SENTENÇA DE AÇÕES COLETIVAS</td>\n",
       "      <td>ÍNDICE DE 3,17%</td>\n",
       "      <td>CORESE</td>\n",
       "      <td>juizo 1 vara secao judiciaria estado goias dis...</td>\n",
       "    </tr>\n",
       "    <tr>\n",
       "      <th>2</th>\n",
       "      <td>10028363120234013500</td>\n",
       "      <td>1ª VARA FEDERAL CÍVEL DA SJGO</td>\n",
       "      <td>CUMPRIMENTO DE SENTENÇA DE AÇÕES COLETIVAS</td>\n",
       "      <td>ÍNDICE DE 3,17%</td>\n",
       "      <td>CORESE</td>\n",
       "      <td>juizo 1 vara secao judiciaria estado goias dis...</td>\n",
       "    </tr>\n",
       "    <tr>\n",
       "      <th>3</th>\n",
       "      <td>10028622920234013500</td>\n",
       "      <td>1ª VARA FEDERAL CÍVEL DA SJGO</td>\n",
       "      <td>CUMPRIMENTO DE SENTENÇA DE AÇÕES COLETIVAS</td>\n",
       "      <td>ÍNDICE DE 3,17%</td>\n",
       "      <td>CORESE</td>\n",
       "      <td>juizo 1 vara secao judiciaria estado goias dis...</td>\n",
       "    </tr>\n",
       "    <tr>\n",
       "      <th>4</th>\n",
       "      <td>10030355320234013500</td>\n",
       "      <td>1ª VARA FEDERAL CÍVEL DA SJGO</td>\n",
       "      <td>CUMPRIMENTO DE SENTENÇA DE AÇÕES COLETIVAS</td>\n",
       "      <td>ÍNDICE DE 3,17%</td>\n",
       "      <td>CORESE</td>\n",
       "      <td>juizo 1 vara secao judiciaria estado goias dis...</td>\n",
       "    </tr>\n",
       "    <tr>\n",
       "      <th>...</th>\n",
       "      <td>...</td>\n",
       "      <td>...</td>\n",
       "      <td>...</td>\n",
       "      <td>...</td>\n",
       "      <td>...</td>\n",
       "      <td>...</td>\n",
       "    </tr>\n",
       "    <tr>\n",
       "      <th>35645</th>\n",
       "      <td>10619787220234013400</td>\n",
       "      <td>4ª VARA FEDERAL CÍVEL DA SJDF</td>\n",
       "      <td>CUMPRIMENTO DE SENTENÇA DE AÇÕES COLETIVAS</td>\n",
       "      <td>REAJUSTES DE REMUNERAÇÃO, PROVENTOS OU PENSÃO</td>\n",
       "      <td>CORESE</td>\n",
       "      <td>inicial anexa</td>\n",
       "    </tr>\n",
       "    <tr>\n",
       "      <th>35647</th>\n",
       "      <td>10599157420234013400</td>\n",
       "      <td>4ª VARA FEDERAL CÍVEL DA SJDF</td>\n",
       "      <td>CUMPRIMENTO DE SENTENÇA DE AÇÕES COLETIVAS</td>\n",
       "      <td>REAJUSTES DE REMUNERAÇÃO, PROVENTOS OU PENSÃO</td>\n",
       "      <td>CORESE</td>\n",
       "      <td>1 4 vara secao judiciaria distrito distribuica...</td>\n",
       "    </tr>\n",
       "    <tr>\n",
       "      <th>35648</th>\n",
       "      <td>10638251220234013400</td>\n",
       "      <td>4ª VARA FEDERAL CÍVEL DA SJDF</td>\n",
       "      <td>CUMPRIMENTO DE SENTENÇA DE AÇÕES COLETIVAS</td>\n",
       "      <td>REAJUSTES DE REMUNERAÇÃO, PROVENTOS OU PENSÃO</td>\n",
       "      <td>CORESE</td>\n",
       "      <td>vara subsecao judiciaria distrito ref cumprime...</td>\n",
       "    </tr>\n",
       "    <tr>\n",
       "      <th>35649</th>\n",
       "      <td>10631903120234013400</td>\n",
       "      <td>22ª VARA FEDERAL CÍVEL DA SJDF</td>\n",
       "      <td>PROCEDIMENTO COMUM CÍVEL</td>\n",
       "      <td>DANO MORAL - DDT (DICLORO-DIFENIL-TRICLOROETANO)</td>\n",
       "      <td>CORESE</td>\n",
       "      <td>d vara brasilia secao judiciaria distrito df j...</td>\n",
       "    </tr>\n",
       "    <tr>\n",
       "      <th>35650</th>\n",
       "      <td>10622592820234013400</td>\n",
       "      <td>NÚCLEO DE JUSTIÇA 4.0 - APOIO OIAPOQUE</td>\n",
       "      <td>CUMPRIMENTO DE SENTENÇA CONTRA A FAZENDA PÚBLICA</td>\n",
       "      <td>COMPLEMENTAÇÃO DE APOSENTADORIA / PENSÃO</td>\n",
       "      <td>CORESE</td>\n",
       "      <td>adailton rocha teixeira luis pereira lima filh...</td>\n",
       "    </tr>\n",
       "  </tbody>\n",
       "</table>\n",
       "<p>33111 rows × 6 columns</p>\n",
       "</div>"
      ],
      "text/plain": [
       "                        cnj                                      orgao  \\\n",
       "index                                                                    \n",
       "0      10437601020204013300  2ª RELATORIA DA 3ª TURMA RECURSAL DA SJBA   \n",
       "1      10028658120234013500              1ª VARA FEDERAL CÍVEL DA SJGO   \n",
       "2      10028363120234013500              1ª VARA FEDERAL CÍVEL DA SJGO   \n",
       "3      10028622920234013500              1ª VARA FEDERAL CÍVEL DA SJGO   \n",
       "4      10030355320234013500              1ª VARA FEDERAL CÍVEL DA SJGO   \n",
       "...                     ...                                        ...   \n",
       "35645  10619787220234013400              4ª VARA FEDERAL CÍVEL DA SJDF   \n",
       "35647  10599157420234013400              4ª VARA FEDERAL CÍVEL DA SJDF   \n",
       "35648  10638251220234013400              4ª VARA FEDERAL CÍVEL DA SJDF   \n",
       "35649  10631903120234013400             22ª VARA FEDERAL CÍVEL DA SJDF   \n",
       "35650  10622592820234013400     NÚCLEO DE JUSTIÇA 4.0 - APOIO OIAPOQUE   \n",
       "\n",
       "                                                 classe  \\\n",
       "index                                                     \n",
       "0                               RECURSO INOMINADO CÍVEL   \n",
       "1            CUMPRIMENTO DE SENTENÇA DE AÇÕES COLETIVAS   \n",
       "2            CUMPRIMENTO DE SENTENÇA DE AÇÕES COLETIVAS   \n",
       "3            CUMPRIMENTO DE SENTENÇA DE AÇÕES COLETIVAS   \n",
       "4            CUMPRIMENTO DE SENTENÇA DE AÇÕES COLETIVAS   \n",
       "...                                                 ...   \n",
       "35645        CUMPRIMENTO DE SENTENÇA DE AÇÕES COLETIVAS   \n",
       "35647        CUMPRIMENTO DE SENTENÇA DE AÇÕES COLETIVAS   \n",
       "35648        CUMPRIMENTO DE SENTENÇA DE AÇÕES COLETIVAS   \n",
       "35649                          PROCEDIMENTO COMUM CÍVEL   \n",
       "35650  CUMPRIMENTO DE SENTENÇA CONTRA A FAZENDA PÚBLICA   \n",
       "\n",
       "                                                   tipo coordenacao  \\\n",
       "index                                                                 \n",
       "0                        INDENIZAÇÃO POR DANO AMBIENTAL     COREJEF   \n",
       "1                                       ÍNDICE DE 3,17%      CORESE   \n",
       "2                                       ÍNDICE DE 3,17%      CORESE   \n",
       "3                                       ÍNDICE DE 3,17%      CORESE   \n",
       "4                                       ÍNDICE DE 3,17%      CORESE   \n",
       "...                                                 ...         ...   \n",
       "35645     REAJUSTES DE REMUNERAÇÃO, PROVENTOS OU PENSÃO      CORESE   \n",
       "35647     REAJUSTES DE REMUNERAÇÃO, PROVENTOS OU PENSÃO      CORESE   \n",
       "35648     REAJUSTES DE REMUNERAÇÃO, PROVENTOS OU PENSÃO      CORESE   \n",
       "35649  DANO MORAL - DDT (DICLORO-DIFENIL-TRICLOROETANO)      CORESE   \n",
       "35650          COMPLEMENTAÇÃO DE APOSENTADORIA / PENSÃO      CORESE   \n",
       "\n",
       "                                      peticao_processada  \n",
       "index                                                     \n",
       "0      vara juizados especiais federais secao judicia...  \n",
       "1      juizo 1 vara secao judiciaria estado goias dis...  \n",
       "2      juizo 1 vara secao judiciaria estado goias dis...  \n",
       "3      juizo 1 vara secao judiciaria estado goias dis...  \n",
       "4      juizo 1 vara secao judiciaria estado goias dis...  \n",
       "...                                                  ...  \n",
       "35645                                      inicial anexa  \n",
       "35647  1 4 vara secao judiciaria distrito distribuica...  \n",
       "35648  vara subsecao judiciaria distrito ref cumprime...  \n",
       "35649  d vara brasilia secao judiciaria distrito df j...  \n",
       "35650  adailton rocha teixeira luis pereira lima filh...  \n",
       "\n",
       "[33111 rows x 6 columns]"
      ]
     },
     "execution_count": 22,
     "metadata": {},
     "output_type": "execute_result"
    }
   ],
   "source": [
    "dados"
   ]
  },
  {
   "cell_type": "code",
   "execution_count": null,
   "id": "2430321f",
   "metadata": {},
   "outputs": [],
   "source": []
  }
 ],
 "metadata": {
  "kernelspec": {
   "display_name": "Python 3 (ipykernel)",
   "language": "python",
   "name": "python3"
  },
  "language_info": {
   "codemirror_mode": {
    "name": "ipython",
    "version": 3
   },
   "file_extension": ".py",
   "mimetype": "text/x-python",
   "name": "python",
   "nbconvert_exporter": "python",
   "pygments_lexer": "ipython3",
   "version": "3.9.18"
  }
 },
 "nbformat": 4,
 "nbformat_minor": 5
}
