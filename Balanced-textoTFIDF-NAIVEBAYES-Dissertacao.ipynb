{
 "cells": [
  {
   "cell_type": "code",
   "execution_count": 1,
   "id": "1c0ae335",
   "metadata": {},
   "outputs": [
    {
     "name": "stderr",
     "output_type": "stream",
     "text": [
      "[nltk_data] Downloading package stopwords to\n",
      "[nltk_data]     C:\\Users\\luciana.angrisano\\AppData\\Roaming\\nltk_data..\n",
      "[nltk_data]     .\n",
      "[nltk_data]   Package stopwords is already up-to-date!\n"
     ]
    },
    {
     "name": "stdout",
     "output_type": "stream",
     "text": [
      "Requirement already satisfied: pyarrow in c:\\users\\luciana.angrisano\\anaconda3\\lib\\site-packages (11.0.0)\n",
      "Requirement already satisfied: numpy>=1.16.6 in c:\\users\\luciana.angrisano\\anaconda3\\lib\\site-packages (from pyarrow) (1.26.2)\n"
     ]
    },
    {
     "name": "stderr",
     "output_type": "stream",
     "text": [
      "WARNING: Ignoring invalid distribution -ip (c:\\users\\luciana.angrisano\\anaconda3\\lib\\site-packages)\n",
      "WARNING: Ignoring invalid distribution -ip (c:\\users\\luciana.angrisano\\anaconda3\\lib\\site-packages)\n",
      "WARNING: There was an error checking the latest version of pip.\n"
     ]
    },
    {
     "name": "stdout",
     "output_type": "stream",
     "text": [
      "Requirement already satisfied: fastparquet in c:\\users\\luciana.angrisano\\anaconda3\\lib\\site-packages (2023.8.0)\n",
      "Requirement already satisfied: pandas>=1.5.0 in c:\\users\\luciana.angrisano\\anaconda3\\lib\\site-packages (from fastparquet) (2.1.3)\n",
      "Requirement already satisfied: numpy>=1.20.3 in c:\\users\\luciana.angrisano\\anaconda3\\lib\\site-packages (from fastparquet) (1.26.2)\n",
      "Requirement already satisfied: cramjam>=2.3 in c:\\users\\luciana.angrisano\\anaconda3\\lib\\site-packages (from fastparquet) (2.7.0)\n",
      "Requirement already satisfied: fsspec in c:\\users\\luciana.angrisano\\anaconda3\\lib\\site-packages (from fastparquet) (2023.4.0)\n",
      "Requirement already satisfied: packaging in c:\\users\\luciana.angrisano\\anaconda3\\lib\\site-packages (from fastparquet) (23.1)\n",
      "Requirement already satisfied: python-dateutil>=2.8.2 in c:\\users\\luciana.angrisano\\anaconda3\\lib\\site-packages (from pandas>=1.5.0->fastparquet) (2.8.2)\n",
      "Requirement already satisfied: pytz>=2020.1 in c:\\users\\luciana.angrisano\\anaconda3\\lib\\site-packages (from pandas>=1.5.0->fastparquet) (2023.3.post1)\n",
      "Requirement already satisfied: tzdata>=2022.1 in c:\\users\\luciana.angrisano\\anaconda3\\lib\\site-packages (from pandas>=1.5.0->fastparquet) (2023.3)\n",
      "Requirement already satisfied: six>=1.5 in c:\\users\\luciana.angrisano\\anaconda3\\lib\\site-packages (from python-dateutil>=2.8.2->pandas>=1.5.0->fastparquet) (1.16.0)\n"
     ]
    },
    {
     "name": "stderr",
     "output_type": "stream",
     "text": [
      "WARNING: Ignoring invalid distribution -ip (c:\\users\\luciana.angrisano\\anaconda3\\lib\\site-packages)\n",
      "WARNING: Ignoring invalid distribution -ip (c:\\users\\luciana.angrisano\\anaconda3\\lib\\site-packages)\n",
      "WARNING: There was an error checking the latest version of pip.\n"
     ]
    }
   ],
   "source": [
    "import pandas as pd\n",
    "import matplotlib.pyplot as plt\n",
    "\n",
    "# Cria objeto com o caminho da pasta do Projeto\n",
    "from pathlib import Path\n",
    "#pasta_projeto = Path('/content/drive/MyDrive/AGU_Notebooks/Labs R2D2/')\n",
    "pasta_projeto = Path(Path.cwd())\n",
    "\n",
    "import nltk\n",
    "from sklearn.feature_extraction.text import TfidfVectorizer\n",
    "from sklearn.model_selection import train_test_split\n",
    "\n",
    "import nltk\n",
    "from nltk.stem import RSLPStemmer\n",
    "from nltk.corpus import stopwords\n",
    "nltk.download('stopwords')\n",
    "\n",
    "!pip install pyarrow\n",
    "!pip install fastparquet"
   ]
  },
  {
   "cell_type": "code",
   "execution_count": 2,
   "id": "b695e9c7",
   "metadata": {},
   "outputs": [],
   "source": [
    "dados = pd.read_parquet(pasta_projeto /'dados_desbalanceados.parquet')"
   ]
  },
  {
   "cell_type": "code",
   "execution_count": 3,
   "id": "97a646ae",
   "metadata": {},
   "outputs": [
    {
     "name": "stdout",
     "output_type": "stream",
     "text": [
      "(33111, 6)\n"
     ]
    },
    {
     "data": {
      "text/plain": [
       "coordenacao\n",
       "COREJEF     13221\n",
       "CORESP      11999\n",
       "CORESE       3759\n",
       "CORESA       1951\n",
       "COREM        1111\n",
       "COREPAM       613\n",
       "CORAT         367\n",
       "CORETRAB       55\n",
       "COREPRO        35\n",
       "Name: count, dtype: int64"
      ]
     },
     "execution_count": 3,
     "metadata": {},
     "output_type": "execute_result"
    }
   ],
   "source": [
    "print(dados.shape)\n",
    "dados['coordenacao'].value_counts()"
   ]
  },
  {
   "cell_type": "code",
   "execution_count": 4,
   "id": "5670eaa2",
   "metadata": {},
   "outputs": [
    {
     "data": {
      "text/html": [
       "<div>\n",
       "<style scoped>\n",
       "    .dataframe tbody tr th:only-of-type {\n",
       "        vertical-align: middle;\n",
       "    }\n",
       "\n",
       "    .dataframe tbody tr th {\n",
       "        vertical-align: top;\n",
       "    }\n",
       "\n",
       "    .dataframe thead th {\n",
       "        text-align: right;\n",
       "    }\n",
       "</style>\n",
       "<table border=\"1\" class=\"dataframe\">\n",
       "  <thead>\n",
       "    <tr style=\"text-align: right;\">\n",
       "      <th></th>\n",
       "      <th>cnj</th>\n",
       "      <th>orgao</th>\n",
       "      <th>classe</th>\n",
       "      <th>tipo</th>\n",
       "      <th>coordenacao</th>\n",
       "      <th>peticao_processada</th>\n",
       "    </tr>\n",
       "    <tr>\n",
       "      <th>index</th>\n",
       "      <th></th>\n",
       "      <th></th>\n",
       "      <th></th>\n",
       "      <th></th>\n",
       "      <th></th>\n",
       "      <th></th>\n",
       "    </tr>\n",
       "  </thead>\n",
       "  <tbody>\n",
       "    <tr>\n",
       "      <th>0</th>\n",
       "      <td>10437601020204013300</td>\n",
       "      <td>2ª RELATORIA DA 3ª TURMA RECURSAL DA SJBA</td>\n",
       "      <td>RECURSO INOMINADO CÍVEL</td>\n",
       "      <td>INDENIZAÇÃO POR DANO AMBIENTAL</td>\n",
       "      <td>COREJEF</td>\n",
       "      <td>vara juizados especiais federais secao judicia...</td>\n",
       "    </tr>\n",
       "    <tr>\n",
       "      <th>1</th>\n",
       "      <td>10028658120234013500</td>\n",
       "      <td>1ª VARA FEDERAL CÍVEL DA SJGO</td>\n",
       "      <td>CUMPRIMENTO DE SENTENÇA DE AÇÕES COLETIVAS</td>\n",
       "      <td>ÍNDICE DE 3,17%</td>\n",
       "      <td>CORESE</td>\n",
       "      <td>juizo 1 vara secao judiciaria estado goias dis...</td>\n",
       "    </tr>\n",
       "    <tr>\n",
       "      <th>2</th>\n",
       "      <td>10028363120234013500</td>\n",
       "      <td>1ª VARA FEDERAL CÍVEL DA SJGO</td>\n",
       "      <td>CUMPRIMENTO DE SENTENÇA DE AÇÕES COLETIVAS</td>\n",
       "      <td>ÍNDICE DE 3,17%</td>\n",
       "      <td>CORESE</td>\n",
       "      <td>juizo 1 vara secao judiciaria estado goias dis...</td>\n",
       "    </tr>\n",
       "    <tr>\n",
       "      <th>3</th>\n",
       "      <td>10028622920234013500</td>\n",
       "      <td>1ª VARA FEDERAL CÍVEL DA SJGO</td>\n",
       "      <td>CUMPRIMENTO DE SENTENÇA DE AÇÕES COLETIVAS</td>\n",
       "      <td>ÍNDICE DE 3,17%</td>\n",
       "      <td>CORESE</td>\n",
       "      <td>juizo 1 vara secao judiciaria estado goias dis...</td>\n",
       "    </tr>\n",
       "    <tr>\n",
       "      <th>4</th>\n",
       "      <td>10030355320234013500</td>\n",
       "      <td>1ª VARA FEDERAL CÍVEL DA SJGO</td>\n",
       "      <td>CUMPRIMENTO DE SENTENÇA DE AÇÕES COLETIVAS</td>\n",
       "      <td>ÍNDICE DE 3,17%</td>\n",
       "      <td>CORESE</td>\n",
       "      <td>juizo 1 vara secao judiciaria estado goias dis...</td>\n",
       "    </tr>\n",
       "    <tr>\n",
       "      <th>...</th>\n",
       "      <td>...</td>\n",
       "      <td>...</td>\n",
       "      <td>...</td>\n",
       "      <td>...</td>\n",
       "      <td>...</td>\n",
       "      <td>...</td>\n",
       "    </tr>\n",
       "    <tr>\n",
       "      <th>35645</th>\n",
       "      <td>10619787220234013400</td>\n",
       "      <td>4ª VARA FEDERAL CÍVEL DA SJDF</td>\n",
       "      <td>CUMPRIMENTO DE SENTENÇA DE AÇÕES COLETIVAS</td>\n",
       "      <td>REAJUSTES DE REMUNERAÇÃO, PROVENTOS OU PENSÃO</td>\n",
       "      <td>CORESE</td>\n",
       "      <td>inicial anexa</td>\n",
       "    </tr>\n",
       "    <tr>\n",
       "      <th>35647</th>\n",
       "      <td>10599157420234013400</td>\n",
       "      <td>4ª VARA FEDERAL CÍVEL DA SJDF</td>\n",
       "      <td>CUMPRIMENTO DE SENTENÇA DE AÇÕES COLETIVAS</td>\n",
       "      <td>REAJUSTES DE REMUNERAÇÃO, PROVENTOS OU PENSÃO</td>\n",
       "      <td>CORESE</td>\n",
       "      <td>1 4 vara secao judiciaria distrito distribuica...</td>\n",
       "    </tr>\n",
       "    <tr>\n",
       "      <th>35648</th>\n",
       "      <td>10638251220234013400</td>\n",
       "      <td>4ª VARA FEDERAL CÍVEL DA SJDF</td>\n",
       "      <td>CUMPRIMENTO DE SENTENÇA DE AÇÕES COLETIVAS</td>\n",
       "      <td>REAJUSTES DE REMUNERAÇÃO, PROVENTOS OU PENSÃO</td>\n",
       "      <td>CORESE</td>\n",
       "      <td>vara subsecao judiciaria distrito ref cumprime...</td>\n",
       "    </tr>\n",
       "    <tr>\n",
       "      <th>35649</th>\n",
       "      <td>10631903120234013400</td>\n",
       "      <td>22ª VARA FEDERAL CÍVEL DA SJDF</td>\n",
       "      <td>PROCEDIMENTO COMUM CÍVEL</td>\n",
       "      <td>DANO MORAL - DDT (DICLORO-DIFENIL-TRICLOROETANO)</td>\n",
       "      <td>CORESE</td>\n",
       "      <td>d vara brasilia secao judiciaria distrito df j...</td>\n",
       "    </tr>\n",
       "    <tr>\n",
       "      <th>35650</th>\n",
       "      <td>10622592820234013400</td>\n",
       "      <td>NÚCLEO DE JUSTIÇA 4.0 - APOIO OIAPOQUE</td>\n",
       "      <td>CUMPRIMENTO DE SENTENÇA CONTRA A FAZENDA PÚBLICA</td>\n",
       "      <td>COMPLEMENTAÇÃO DE APOSENTADORIA / PENSÃO</td>\n",
       "      <td>CORESE</td>\n",
       "      <td>adailton rocha teixeira luis pereira lima filh...</td>\n",
       "    </tr>\n",
       "  </tbody>\n",
       "</table>\n",
       "<p>33111 rows × 6 columns</p>\n",
       "</div>"
      ],
      "text/plain": [
       "                        cnj                                      orgao  \\\n",
       "index                                                                    \n",
       "0      10437601020204013300  2ª RELATORIA DA 3ª TURMA RECURSAL DA SJBA   \n",
       "1      10028658120234013500              1ª VARA FEDERAL CÍVEL DA SJGO   \n",
       "2      10028363120234013500              1ª VARA FEDERAL CÍVEL DA SJGO   \n",
       "3      10028622920234013500              1ª VARA FEDERAL CÍVEL DA SJGO   \n",
       "4      10030355320234013500              1ª VARA FEDERAL CÍVEL DA SJGO   \n",
       "...                     ...                                        ...   \n",
       "35645  10619787220234013400              4ª VARA FEDERAL CÍVEL DA SJDF   \n",
       "35647  10599157420234013400              4ª VARA FEDERAL CÍVEL DA SJDF   \n",
       "35648  10638251220234013400              4ª VARA FEDERAL CÍVEL DA SJDF   \n",
       "35649  10631903120234013400             22ª VARA FEDERAL CÍVEL DA SJDF   \n",
       "35650  10622592820234013400     NÚCLEO DE JUSTIÇA 4.0 - APOIO OIAPOQUE   \n",
       "\n",
       "                                                 classe  \\\n",
       "index                                                     \n",
       "0                               RECURSO INOMINADO CÍVEL   \n",
       "1            CUMPRIMENTO DE SENTENÇA DE AÇÕES COLETIVAS   \n",
       "2            CUMPRIMENTO DE SENTENÇA DE AÇÕES COLETIVAS   \n",
       "3            CUMPRIMENTO DE SENTENÇA DE AÇÕES COLETIVAS   \n",
       "4            CUMPRIMENTO DE SENTENÇA DE AÇÕES COLETIVAS   \n",
       "...                                                 ...   \n",
       "35645        CUMPRIMENTO DE SENTENÇA DE AÇÕES COLETIVAS   \n",
       "35647        CUMPRIMENTO DE SENTENÇA DE AÇÕES COLETIVAS   \n",
       "35648        CUMPRIMENTO DE SENTENÇA DE AÇÕES COLETIVAS   \n",
       "35649                          PROCEDIMENTO COMUM CÍVEL   \n",
       "35650  CUMPRIMENTO DE SENTENÇA CONTRA A FAZENDA PÚBLICA   \n",
       "\n",
       "                                                   tipo coordenacao  \\\n",
       "index                                                                 \n",
       "0                        INDENIZAÇÃO POR DANO AMBIENTAL     COREJEF   \n",
       "1                                       ÍNDICE DE 3,17%      CORESE   \n",
       "2                                       ÍNDICE DE 3,17%      CORESE   \n",
       "3                                       ÍNDICE DE 3,17%      CORESE   \n",
       "4                                       ÍNDICE DE 3,17%      CORESE   \n",
       "...                                                 ...         ...   \n",
       "35645     REAJUSTES DE REMUNERAÇÃO, PROVENTOS OU PENSÃO      CORESE   \n",
       "35647     REAJUSTES DE REMUNERAÇÃO, PROVENTOS OU PENSÃO      CORESE   \n",
       "35648     REAJUSTES DE REMUNERAÇÃO, PROVENTOS OU PENSÃO      CORESE   \n",
       "35649  DANO MORAL - DDT (DICLORO-DIFENIL-TRICLOROETANO)      CORESE   \n",
       "35650          COMPLEMENTAÇÃO DE APOSENTADORIA / PENSÃO      CORESE   \n",
       "\n",
       "                                      peticao_processada  \n",
       "index                                                     \n",
       "0      vara juizados especiais federais secao judicia...  \n",
       "1      juizo 1 vara secao judiciaria estado goias dis...  \n",
       "2      juizo 1 vara secao judiciaria estado goias dis...  \n",
       "3      juizo 1 vara secao judiciaria estado goias dis...  \n",
       "4      juizo 1 vara secao judiciaria estado goias dis...  \n",
       "...                                                  ...  \n",
       "35645                                      inicial anexa  \n",
       "35647  1 4 vara secao judiciaria distrito distribuica...  \n",
       "35648  vara subsecao judiciaria distrito ref cumprime...  \n",
       "35649  d vara brasilia secao judiciaria distrito df j...  \n",
       "35650  adailton rocha teixeira luis pereira lima filh...  \n",
       "\n",
       "[33111 rows x 6 columns]"
      ]
     },
     "execution_count": 4,
     "metadata": {},
     "output_type": "execute_result"
    }
   ],
   "source": [
    "dados"
   ]
  },
  {
   "cell_type": "code",
   "execution_count": 5,
   "id": "68cf1210",
   "metadata": {},
   "outputs": [],
   "source": [
    "# define variaveis independentes e variável dependente(TARGET)\n",
    "X = dados[['peticao_processada']]\n",
    "y = dados['coordenacao']"
   ]
  },
  {
   "cell_type": "code",
   "execution_count": 6,
   "id": "5ffacaa3",
   "metadata": {},
   "outputs": [
    {
     "data": {
      "text/plain": [
       "cnj                   object\n",
       "orgao                 object\n",
       "classe                object\n",
       "tipo                  object\n",
       "coordenacao           object\n",
       "peticao_processada    object\n",
       "dtype: object"
      ]
     },
     "execution_count": 6,
     "metadata": {},
     "output_type": "execute_result"
    }
   ],
   "source": [
    "dados.dtypes"
   ]
  },
  {
   "cell_type": "code",
   "execution_count": 7,
   "id": "5012a010",
   "metadata": {},
   "outputs": [],
   "source": [
    "# Separação dos dados de treino e teste\n",
    "X_train, X_test, y_train, y_test = train_test_split(X, y, stratify=y, test_size=0.20, random_state=42)"
   ]
  },
  {
   "cell_type": "code",
   "execution_count": 8,
   "id": "a0744776",
   "metadata": {},
   "outputs": [],
   "source": [
    "# Tratamento dos dados de treino textual \n",
    "##posso tirar stopwords aqui\n",
    "tfidf = TfidfVectorizer(stop_words=stopwords.words('portuguese'), min_df=3, max_df=0.70, max_features=1000)\n",
    "\n",
    "# Aprende vocabulário e idf do conjunto de treinamento\n",
    "tfidf.fit(X_train['peticao_processada'])\n",
    "\n",
    "# Transforma documentos em matriz termo-documento\n",
    "X_train_tfidf = tfidf.transform(X_train['peticao_processada'])\n",
    "X_test_tfidf = tfidf.transform(X_test['peticao_processada'])"
   ]
  },
  {
   "cell_type": "code",
   "execution_count": 9,
   "id": "36975981",
   "metadata": {},
   "outputs": [],
   "source": [
    "# tratamento do test\n",
    "# após a transformação do texto usamos o todense para armazenar valores ausentes na série (quando nao encontrou a palavra na petição retornou \"naN\")\n",
    "X_test_tfidf = pd.DataFrame(X_test_tfidf.todense())\n",
    "X_test_tfidf.index = X_test.index"
   ]
  },
  {
   "cell_type": "code",
   "execution_count": 10,
   "id": "29f5d789",
   "metadata": {},
   "outputs": [],
   "source": [
    "# tratamento dos dados do treino\n",
    "X_train_tfidf = pd.DataFrame(X_train_tfidf.todense())\n",
    "X_train_tfidf.index = X_train.index"
   ]
  },
  {
   "cell_type": "code",
   "execution_count": 11,
   "id": "2a41a6e1",
   "metadata": {},
   "outputs": [],
   "source": [
    "\n",
    "X_test = X_test_tfidf\n",
    "X_train = X_train_tfidf"
   ]
  },
  {
   "cell_type": "code",
   "execution_count": 12,
   "id": "2dcb25dc",
   "metadata": {},
   "outputs": [],
   "source": [
    "from sklearn.preprocessing import LabelEncoder\n",
    "\n",
    "# Cria uma instância do LabelEncoder\n",
    "label_encoder = LabelEncoder()\n",
    "\n",
    "# Converte as classes de treinamento para números inteiros\n",
    "y_train_encoded = label_encoder.fit_transform(y_train)"
   ]
  },
  {
   "cell_type": "code",
   "execution_count": 13,
   "id": "8ebdcb98",
   "metadata": {},
   "outputs": [],
   "source": [
    "############################## a partir daqui um novo notebook.... preciso entender cmo salvar (X_train, y_train) e (X_test, y_test)"
   ]
  },
  {
   "cell_type": "code",
   "execution_count": 14,
   "id": "8eeb484d",
   "metadata": {},
   "outputs": [],
   "source": [
    "# importação das bibliotecas necessárias para treino e teste do modelo e métricas\n",
    "from sklearn.naive_bayes import GaussianNB\n",
    "from sklearn.metrics import accuracy_score\n",
    "from sklearn.metrics import balanced_accuracy_score\n",
    "from sklearn.metrics import f1_score\n"
   ]
  },
  {
   "cell_type": "code",
   "execution_count": 15,
   "id": "ccacd9fb",
   "metadata": {},
   "outputs": [
    {
     "name": "stdout",
     "output_type": "stream",
     "text": [
      "Acurácia do modelo Naive Bayes: 0.8112637777442246\n"
     ]
    }
   ],
   "source": [
    "\n",
    "# importa o modelo Naive Bayes\n",
    "model_naive_bayes = GaussianNB()\n",
    "\n",
    "# treina o modelo Naive Bayes\n",
    "model_naive_bayes.fit(X_train, y_train_encoded)\n",
    "\n",
    "# codifica os rótulos do conjunto de teste (se ainda não estiverem codificados)\n",
    "y_test_encoded = label_encoder.transform(y_test)\n",
    "\n",
    "# realiza previsões no conjunto de teste\n",
    "y_pred_test = model_naive_bayes.predict(X_test)\n",
    "\n",
    "# Avalia o modelo Naive Bayes\n",
    "accuracy = accuracy_score(y_test_encoded, y_pred_test)\n",
    "print(f\"Acurácia do modelo Naive Bayes: {accuracy}\")"
   ]
  },
  {
   "cell_type": "code",
   "execution_count": 16,
   "id": "f27c5d98",
   "metadata": {},
   "outputs": [
    {
     "name": "stdout",
     "output_type": "stream",
     "text": [
      "0.7269790177406714\n"
     ]
    }
   ],
   "source": [
    "#importou a biblioteca para medir a acurácia balanceada\n",
    "from sklearn.metrics import balanced_accuracy_score\n",
    "print(balanced_accuracy_score(y_test_encoded, model_naive_bayes.predict(X_test)))"
   ]
  },
  {
   "cell_type": "code",
   "execution_count": 17,
   "id": "d00fc452",
   "metadata": {},
   "outputs": [
    {
     "name": "stdout",
     "output_type": "stream",
     "text": [
      "              precision    recall  f1-score   support\n",
      "\n",
      "           0       0.40      0.71      0.51        73\n",
      "           1       0.98      0.81      0.89      2645\n",
      "           2       0.42      0.80      0.56       222\n",
      "           3       0.55      0.83      0.66       123\n",
      "           4       0.05      0.71      0.09         7\n",
      "           5       0.94      0.83      0.88       390\n",
      "           6       0.67      0.74      0.70       752\n",
      "           7       0.94      0.84      0.88      2400\n",
      "           8       0.01      0.27      0.02        11\n",
      "\n",
      "    accuracy                           0.81      6623\n",
      "   macro avg       0.55      0.73      0.58      6623\n",
      "weighted avg       0.89      0.81      0.84      6623\n",
      "\n"
     ]
    }
   ],
   "source": [
    "# importa a biblioteca para visualização das métricas\n",
    "from sklearn.metrics import classification_report\n",
    "print(classification_report(y_test_encoded, model_naive_bayes.predict(X_test)))\n",
    "\n"
   ]
  },
  {
   "cell_type": "code",
   "execution_count": 18,
   "id": "498a1e75",
   "metadata": {},
   "outputs": [
    {
     "name": "stdout",
     "output_type": "stream",
     "text": [
      "              precision    recall  f1-score   support\n",
      "\n",
      "       CORAT       0.40      0.71      0.51        73\n",
      "     COREJEF       0.98      0.81      0.89      2645\n",
      "       COREM       0.42      0.80      0.56       222\n",
      "     COREPAM       0.55      0.83      0.66       123\n",
      "     COREPRO       0.05      0.71      0.09         7\n",
      "      CORESA       0.94      0.83      0.88       390\n",
      "      CORESE       0.67      0.74      0.70       752\n",
      "      CORESP       0.94      0.84      0.88      2400\n",
      "    CORETRAB       0.01      0.27      0.02        11\n",
      "\n",
      "    accuracy                           0.81      6623\n",
      "   macro avg       0.55      0.73      0.58      6623\n",
      "weighted avg       0.89      0.81      0.84      6623\n",
      "\n"
     ]
    }
   ],
   "source": [
    "# Converte os resultados preditos de volta para os nomes originais\n",
    "y_pred_encoded = model_naive_bayes.predict(X_test)\n",
    "y_pred_original = label_encoder.inverse_transform(y_pred_encoded)\n",
    "\n",
    "# Imprime o relatório de classificação\n",
    "print(classification_report(y_test, y_pred_original))"
   ]
  },
  {
   "cell_type": "code",
   "execution_count": 19,
   "id": "8eac8f7c",
   "metadata": {},
   "outputs": [
    {
     "name": "stdout",
     "output_type": "stream",
     "text": [
      "Requirement already satisfied: seaborn in c:\\users\\luciana.angrisano\\anaconda3\\lib\\site-packages (0.12.2)\n",
      "Requirement already satisfied: numpy!=1.24.0,>=1.17 in c:\\users\\luciana.angrisano\\anaconda3\\lib\\site-packages (from seaborn) (1.26.2)\n",
      "Requirement already satisfied: pandas>=0.25 in c:\\users\\luciana.angrisano\\anaconda3\\lib\\site-packages (from seaborn) (2.1.3)\n",
      "Requirement already satisfied: matplotlib!=3.6.1,>=3.1 in c:\\users\\luciana.angrisano\\anaconda3\\lib\\site-packages (from seaborn) (3.7.2)\n",
      "Requirement already satisfied: contourpy>=1.0.1 in c:\\users\\luciana.angrisano\\anaconda3\\lib\\site-packages (from matplotlib!=3.6.1,>=3.1->seaborn) (1.0.5)\n",
      "Requirement already satisfied: cycler>=0.10 in c:\\users\\luciana.angrisano\\anaconda3\\lib\\site-packages (from matplotlib!=3.6.1,>=3.1->seaborn) (0.11.0)\n",
      "Requirement already satisfied: fonttools>=4.22.0 in c:\\users\\luciana.angrisano\\anaconda3\\lib\\site-packages (from matplotlib!=3.6.1,>=3.1->seaborn) (4.25.0)\n",
      "Requirement already satisfied: kiwisolver>=1.0.1 in c:\\users\\luciana.angrisano\\anaconda3\\lib\\site-packages (from matplotlib!=3.6.1,>=3.1->seaborn) (1.4.4)\n",
      "Requirement already satisfied: packaging>=20.0 in c:\\users\\luciana.angrisano\\anaconda3\\lib\\site-packages (from matplotlib!=3.6.1,>=3.1->seaborn) (23.1)\n",
      "Requirement already satisfied: pillow>=6.2.0 in c:\\users\\luciana.angrisano\\anaconda3\\lib\\site-packages (from matplotlib!=3.6.1,>=3.1->seaborn) (10.0.1)\n",
      "Requirement already satisfied: pyparsing<3.1,>=2.3.1 in c:\\users\\luciana.angrisano\\anaconda3\\lib\\site-packages (from matplotlib!=3.6.1,>=3.1->seaborn) (3.0.9)\n",
      "Requirement already satisfied: python-dateutil>=2.7 in c:\\users\\luciana.angrisano\\anaconda3\\lib\\site-packages (from matplotlib!=3.6.1,>=3.1->seaborn) (2.8.2)\n",
      "Requirement already satisfied: importlib-resources>=3.2.0 in c:\\users\\luciana.angrisano\\anaconda3\\lib\\site-packages (from matplotlib!=3.6.1,>=3.1->seaborn) (5.2.0)\n",
      "Requirement already satisfied: pytz>=2020.1 in c:\\users\\luciana.angrisano\\anaconda3\\lib\\site-packages (from pandas>=0.25->seaborn) (2023.3.post1)\n",
      "Requirement already satisfied: tzdata>=2022.1 in c:\\users\\luciana.angrisano\\anaconda3\\lib\\site-packages (from pandas>=0.25->seaborn) (2023.3)\n",
      "Requirement already satisfied: zipp>=3.1.0 in c:\\users\\luciana.angrisano\\anaconda3\\lib\\site-packages (from importlib-resources>=3.2.0->matplotlib!=3.6.1,>=3.1->seaborn) (3.11.0)\n",
      "Requirement already satisfied: six>=1.5 in c:\\users\\luciana.angrisano\\anaconda3\\lib\\site-packages (from python-dateutil>=2.7->matplotlib!=3.6.1,>=3.1->seaborn) (1.16.0)\n"
     ]
    },
    {
     "name": "stderr",
     "output_type": "stream",
     "text": [
      "WARNING: Ignoring invalid distribution -ip (c:\\users\\luciana.angrisano\\anaconda3\\lib\\site-packages)\n",
      "WARNING: Ignoring invalid distribution -ip (c:\\users\\luciana.angrisano\\anaconda3\\lib\\site-packages)\n",
      "WARNING: There was an error checking the latest version of pip.\n"
     ]
    },
    {
     "name": "stdout",
     "output_type": "stream",
     "text": [
      "Requirement already satisfied: matplotlib in c:\\users\\luciana.angrisano\\anaconda3\\lib\\site-packages (3.7.2)\n",
      "Requirement already satisfied: contourpy>=1.0.1 in c:\\users\\luciana.angrisano\\anaconda3\\lib\\site-packages (from matplotlib) (1.0.5)\n",
      "Requirement already satisfied: cycler>=0.10 in c:\\users\\luciana.angrisano\\anaconda3\\lib\\site-packages (from matplotlib) (0.11.0)\n",
      "Requirement already satisfied: fonttools>=4.22.0 in c:\\users\\luciana.angrisano\\anaconda3\\lib\\site-packages (from matplotlib) (4.25.0)\n",
      "Requirement already satisfied: kiwisolver>=1.0.1 in c:\\users\\luciana.angrisano\\anaconda3\\lib\\site-packages (from matplotlib) (1.4.4)\n",
      "Requirement already satisfied: numpy>=1.20 in c:\\users\\luciana.angrisano\\anaconda3\\lib\\site-packages (from matplotlib) (1.26.2)\n",
      "Requirement already satisfied: packaging>=20.0 in c:\\users\\luciana.angrisano\\anaconda3\\lib\\site-packages (from matplotlib) (23.1)\n",
      "Requirement already satisfied: pillow>=6.2.0 in c:\\users\\luciana.angrisano\\anaconda3\\lib\\site-packages (from matplotlib) (10.0.1)\n",
      "Requirement already satisfied: pyparsing<3.1,>=2.3.1 in c:\\users\\luciana.angrisano\\anaconda3\\lib\\site-packages (from matplotlib) (3.0.9)\n",
      "Requirement already satisfied: python-dateutil>=2.7 in c:\\users\\luciana.angrisano\\anaconda3\\lib\\site-packages (from matplotlib) (2.8.2)\n",
      "Requirement already satisfied: importlib-resources>=3.2.0 in c:\\users\\luciana.angrisano\\anaconda3\\lib\\site-packages (from matplotlib) (5.2.0)\n",
      "Requirement already satisfied: zipp>=3.1.0 in c:\\users\\luciana.angrisano\\anaconda3\\lib\\site-packages (from importlib-resources>=3.2.0->matplotlib) (3.11.0)\n",
      "Requirement already satisfied: six>=1.5 in c:\\users\\luciana.angrisano\\anaconda3\\lib\\site-packages (from python-dateutil>=2.7->matplotlib) (1.16.0)\n"
     ]
    },
    {
     "name": "stderr",
     "output_type": "stream",
     "text": [
      "WARNING: Ignoring invalid distribution -ip (c:\\users\\luciana.angrisano\\anaconda3\\lib\\site-packages)\n",
      "WARNING: Ignoring invalid distribution -ip (c:\\users\\luciana.angrisano\\anaconda3\\lib\\site-packages)\n",
      "WARNING: There was an error checking the latest version of pip.\n"
     ]
    }
   ],
   "source": [
    "!pip install seaborn\n",
    "!pip install matplotlib"
   ]
  },
  {
   "cell_type": "code",
   "execution_count": 20,
   "id": "f4f61bf4",
   "metadata": {},
   "outputs": [
    {
     "data": {
      "text/plain": [
       "<Figure size 1000x800 with 0 Axes>"
      ]
     },
     "metadata": {},
     "output_type": "display_data"
    },
    {
     "data": {
      "image/png": "[encoded data removed]",
      "text/plain": [
       "<Figure size 640x480 with 2 Axes>"
      ]
     },
     "metadata": {},
     "output_type": "display_data"
    }
   ],
   "source": [
    "from sklearn.metrics import ConfusionMatrixDisplay, confusion_matrix\n",
    "import seaborn as sns\n",
    "import matplotlib.pyplot as plt\n",
    "\n",
    "# Calcula a matriz de confusão\n",
    "cm = confusion_matrix(y_test_encoded, model_naive_bayes.predict(X_test))\n",
    "\n",
    "# Define o tamanho do gráfico\n",
    "plt.figure(figsize=(10, 8))\n",
    "\n",
    "# Cria o objeto ConfusionMatrixDisplay\n",
    "cmd = ConfusionMatrixDisplay.from_estimator(model_naive_bayes, X_test, y_test_encoded, display_labels=y_test.unique(), cmap=\"Blues\",  xticks_rotation=\"vertical\")\n",
    "\n",
    "# Adiciona rótulos aos eixos\n",
    "plt.xlabel(\"Previsto\")\n",
    "plt.ylabel(\"Real\")\n",
    "plt.title(\"Matriz de Confusão\")\n",
    "\n",
    "# Mostra o gráfico\n",
    "plt.show()\n"
   ]
  },
  {
   "cell_type": "code",
   "execution_count": 21,
   "id": "e1230fe4",
   "metadata": {},
   "outputs": [
    {
     "name": "stdout",
     "output_type": "stream",
     "text": [
      "Requirement already satisfied: imbalanced-learn in c:\\users\\luciana.angrisano\\anaconda3\\lib\\site-packages (0.11.0)\n",
      "Requirement already satisfied: numpy>=1.17.3 in c:\\users\\luciana.angrisano\\anaconda3\\lib\\site-packages (from imbalanced-learn) (1.26.2)\n",
      "Requirement already satisfied: scipy>=1.5.0 in c:\\users\\luciana.angrisano\\anaconda3\\lib\\site-packages (from imbalanced-learn) (1.11.3)\n",
      "Requirement already satisfied: scikit-learn>=1.0.2 in c:\\users\\luciana.angrisano\\anaconda3\\lib\\site-packages (from imbalanced-learn) (1.3.2)\n",
      "Requirement already satisfied: joblib>=1.1.1 in c:\\users\\luciana.angrisano\\anaconda3\\lib\\site-packages (from imbalanced-learn) (1.2.0)\n",
      "Requirement already satisfied: threadpoolctl>=2.0.0 in c:\\users\\luciana.angrisano\\anaconda3\\lib\\site-packages (from imbalanced-learn) (2.2.0)\n"
     ]
    },
    {
     "name": "stderr",
     "output_type": "stream",
     "text": [
      "WARNING: Ignoring invalid distribution -ip (c:\\users\\luciana.angrisano\\anaconda3\\lib\\site-packages)\n",
      "WARNING: Ignoring invalid distribution -ip (c:\\users\\luciana.angrisano\\anaconda3\\lib\\site-packages)\n",
      "WARNING: There was an error checking the latest version of pip.\n"
     ]
    }
   ],
   "source": [
    "!pip install -U imbalanced-learn\n"
   ]
  },
  {
   "cell_type": "code",
   "execution_count": 22,
   "id": "401ac17f",
   "metadata": {},
   "outputs": [
    {
     "data": {
      "text/html": [
       "<div>\n",
       "<style scoped>\n",
       "    .dataframe tbody tr th:only-of-type {\n",
       "        vertical-align: middle;\n",
       "    }\n",
       "\n",
       "    .dataframe tbody tr th {\n",
       "        vertical-align: top;\n",
       "    }\n",
       "\n",
       "    .dataframe thead th {\n",
       "        text-align: right;\n",
       "    }\n",
       "</style>\n",
       "<table border=\"1\" class=\"dataframe\">\n",
       "  <thead>\n",
       "    <tr style=\"text-align: right;\">\n",
       "      <th></th>\n",
       "      <th>0</th>\n",
       "      <th>1</th>\n",
       "      <th>2</th>\n",
       "      <th>3</th>\n",
       "      <th>4</th>\n",
       "      <th>5</th>\n",
       "      <th>6</th>\n",
       "      <th>7</th>\n",
       "      <th>8</th>\n",
       "      <th>9</th>\n",
       "      <th>...</th>\n",
       "      <th>990</th>\n",
       "      <th>991</th>\n",
       "      <th>992</th>\n",
       "      <th>993</th>\n",
       "      <th>994</th>\n",
       "      <th>995</th>\n",
       "      <th>996</th>\n",
       "      <th>997</th>\n",
       "      <th>998</th>\n",
       "      <th>999</th>\n",
       "    </tr>\n",
       "    <tr>\n",
       "      <th>index</th>\n",
       "      <th></th>\n",
       "      <th></th>\n",
       "      <th></th>\n",
       "      <th></th>\n",
       "      <th></th>\n",
       "      <th></th>\n",
       "      <th></th>\n",
       "      <th></th>\n",
       "      <th></th>\n",
       "      <th></th>\n",
       "      <th></th>\n",
       "      <th></th>\n",
       "      <th></th>\n",
       "      <th></th>\n",
       "      <th></th>\n",
       "      <th></th>\n",
       "      <th></th>\n",
       "      <th></th>\n",
       "      <th></th>\n",
       "      <th></th>\n",
       "      <th></th>\n",
       "    </tr>\n",
       "  </thead>\n",
       "  <tbody>\n",
       "    <tr>\n",
       "      <th>13054</th>\n",
       "      <td>0.00461</td>\n",
       "      <td>0.002946</td>\n",
       "      <td>0.000000</td>\n",
       "      <td>0.005890</td>\n",
       "      <td>0.000000</td>\n",
       "      <td>0.007715</td>\n",
       "      <td>0.005046</td>\n",
       "      <td>0.003191</td>\n",
       "      <td>0.0</td>\n",
       "      <td>0.004665</td>\n",
       "      <td>...</td>\n",
       "      <td>0.000000</td>\n",
       "      <td>0.000000</td>\n",
       "      <td>0.007832</td>\n",
       "      <td>0.000000</td>\n",
       "      <td>0.000000</td>\n",
       "      <td>0.006878</td>\n",
       "      <td>0.000000</td>\n",
       "      <td>0.000000</td>\n",
       "      <td>0.002827</td>\n",
       "      <td>0.002705</td>\n",
       "    </tr>\n",
       "    <tr>\n",
       "      <th>11935</th>\n",
       "      <td>0.00000</td>\n",
       "      <td>0.029210</td>\n",
       "      <td>0.000000</td>\n",
       "      <td>0.014598</td>\n",
       "      <td>0.017957</td>\n",
       "      <td>0.057360</td>\n",
       "      <td>0.012507</td>\n",
       "      <td>0.000000</td>\n",
       "      <td>0.0</td>\n",
       "      <td>0.000000</td>\n",
       "      <td>...</td>\n",
       "      <td>0.024890</td>\n",
       "      <td>0.045663</td>\n",
       "      <td>0.000000</td>\n",
       "      <td>0.014696</td>\n",
       "      <td>0.000000</td>\n",
       "      <td>0.017047</td>\n",
       "      <td>0.000000</td>\n",
       "      <td>0.000000</td>\n",
       "      <td>0.000000</td>\n",
       "      <td>0.000000</td>\n",
       "    </tr>\n",
       "    <tr>\n",
       "      <th>32040</th>\n",
       "      <td>0.00000</td>\n",
       "      <td>0.025057</td>\n",
       "      <td>0.011200</td>\n",
       "      <td>0.025044</td>\n",
       "      <td>0.000000</td>\n",
       "      <td>0.000000</td>\n",
       "      <td>0.000000</td>\n",
       "      <td>0.040700</td>\n",
       "      <td>0.0</td>\n",
       "      <td>0.000000</td>\n",
       "      <td>...</td>\n",
       "      <td>0.010675</td>\n",
       "      <td>0.000000</td>\n",
       "      <td>0.011100</td>\n",
       "      <td>0.012606</td>\n",
       "      <td>0.013290</td>\n",
       "      <td>0.000000</td>\n",
       "      <td>0.000000</td>\n",
       "      <td>0.036030</td>\n",
       "      <td>0.012021</td>\n",
       "      <td>0.011500</td>\n",
       "    </tr>\n",
       "    <tr>\n",
       "      <th>26681</th>\n",
       "      <td>0.00000</td>\n",
       "      <td>0.025181</td>\n",
       "      <td>0.011256</td>\n",
       "      <td>0.025168</td>\n",
       "      <td>0.000000</td>\n",
       "      <td>0.000000</td>\n",
       "      <td>0.000000</td>\n",
       "      <td>0.040902</td>\n",
       "      <td>0.0</td>\n",
       "      <td>0.000000</td>\n",
       "      <td>...</td>\n",
       "      <td>0.010729</td>\n",
       "      <td>0.000000</td>\n",
       "      <td>0.011155</td>\n",
       "      <td>0.012669</td>\n",
       "      <td>0.013356</td>\n",
       "      <td>0.000000</td>\n",
       "      <td>0.000000</td>\n",
       "      <td>0.036209</td>\n",
       "      <td>0.012081</td>\n",
       "      <td>0.011557</td>\n",
       "    </tr>\n",
       "    <tr>\n",
       "      <th>14616</th>\n",
       "      <td>0.00000</td>\n",
       "      <td>0.000000</td>\n",
       "      <td>0.000000</td>\n",
       "      <td>0.000000</td>\n",
       "      <td>0.000000</td>\n",
       "      <td>0.000000</td>\n",
       "      <td>0.000000</td>\n",
       "      <td>0.000000</td>\n",
       "      <td>0.0</td>\n",
       "      <td>0.000000</td>\n",
       "      <td>...</td>\n",
       "      <td>0.000000</td>\n",
       "      <td>0.000000</td>\n",
       "      <td>0.000000</td>\n",
       "      <td>0.000000</td>\n",
       "      <td>0.000000</td>\n",
       "      <td>0.000000</td>\n",
       "      <td>0.000000</td>\n",
       "      <td>0.000000</td>\n",
       "      <td>0.000000</td>\n",
       "      <td>0.379791</td>\n",
       "    </tr>\n",
       "    <tr>\n",
       "      <th>...</th>\n",
       "      <td>...</td>\n",
       "      <td>...</td>\n",
       "      <td>...</td>\n",
       "      <td>...</td>\n",
       "      <td>...</td>\n",
       "      <td>...</td>\n",
       "      <td>...</td>\n",
       "      <td>...</td>\n",
       "      <td>...</td>\n",
       "      <td>...</td>\n",
       "      <td>...</td>\n",
       "      <td>...</td>\n",
       "      <td>...</td>\n",
       "      <td>...</td>\n",
       "      <td>...</td>\n",
       "      <td>...</td>\n",
       "      <td>...</td>\n",
       "      <td>...</td>\n",
       "      <td>...</td>\n",
       "      <td>...</td>\n",
       "      <td>...</td>\n",
       "    </tr>\n",
       "    <tr>\n",
       "      <th>12876</th>\n",
       "      <td>0.00000</td>\n",
       "      <td>0.000000</td>\n",
       "      <td>0.000000</td>\n",
       "      <td>0.014219</td>\n",
       "      <td>0.000000</td>\n",
       "      <td>0.000000</td>\n",
       "      <td>0.000000</td>\n",
       "      <td>0.000000</td>\n",
       "      <td>0.0</td>\n",
       "      <td>0.000000</td>\n",
       "      <td>...</td>\n",
       "      <td>0.000000</td>\n",
       "      <td>0.000000</td>\n",
       "      <td>0.012605</td>\n",
       "      <td>0.014315</td>\n",
       "      <td>0.000000</td>\n",
       "      <td>0.000000</td>\n",
       "      <td>0.014933</td>\n",
       "      <td>0.000000</td>\n",
       "      <td>0.000000</td>\n",
       "      <td>0.013059</td>\n",
       "    </tr>\n",
       "    <tr>\n",
       "      <th>2964</th>\n",
       "      <td>0.00000</td>\n",
       "      <td>0.000000</td>\n",
       "      <td>0.000000</td>\n",
       "      <td>0.000000</td>\n",
       "      <td>0.000000</td>\n",
       "      <td>0.000000</td>\n",
       "      <td>0.064537</td>\n",
       "      <td>0.000000</td>\n",
       "      <td>0.0</td>\n",
       "      <td>0.000000</td>\n",
       "      <td>...</td>\n",
       "      <td>0.032110</td>\n",
       "      <td>0.000000</td>\n",
       "      <td>0.000000</td>\n",
       "      <td>0.000000</td>\n",
       "      <td>0.000000</td>\n",
       "      <td>0.000000</td>\n",
       "      <td>0.000000</td>\n",
       "      <td>0.000000</td>\n",
       "      <td>0.000000</td>\n",
       "      <td>0.000000</td>\n",
       "    </tr>\n",
       "    <tr>\n",
       "      <th>14426</th>\n",
       "      <td>0.00000</td>\n",
       "      <td>0.000000</td>\n",
       "      <td>0.000000</td>\n",
       "      <td>0.000000</td>\n",
       "      <td>0.000000</td>\n",
       "      <td>0.000000</td>\n",
       "      <td>0.014701</td>\n",
       "      <td>0.018590</td>\n",
       "      <td>0.0</td>\n",
       "      <td>0.000000</td>\n",
       "      <td>...</td>\n",
       "      <td>0.014629</td>\n",
       "      <td>0.004473</td>\n",
       "      <td>0.011408</td>\n",
       "      <td>0.008637</td>\n",
       "      <td>0.027317</td>\n",
       "      <td>0.030057</td>\n",
       "      <td>0.009010</td>\n",
       "      <td>0.008229</td>\n",
       "      <td>0.000000</td>\n",
       "      <td>0.003940</td>\n",
       "    </tr>\n",
       "    <tr>\n",
       "      <th>9181</th>\n",
       "      <td>0.00000</td>\n",
       "      <td>0.000000</td>\n",
       "      <td>0.000000</td>\n",
       "      <td>0.000000</td>\n",
       "      <td>0.000000</td>\n",
       "      <td>0.000000</td>\n",
       "      <td>0.000000</td>\n",
       "      <td>0.000000</td>\n",
       "      <td>0.0</td>\n",
       "      <td>0.000000</td>\n",
       "      <td>...</td>\n",
       "      <td>0.000000</td>\n",
       "      <td>0.000000</td>\n",
       "      <td>0.000000</td>\n",
       "      <td>0.000000</td>\n",
       "      <td>0.000000</td>\n",
       "      <td>0.000000</td>\n",
       "      <td>0.000000</td>\n",
       "      <td>0.000000</td>\n",
       "      <td>0.000000</td>\n",
       "      <td>0.000000</td>\n",
       "    </tr>\n",
       "    <tr>\n",
       "      <th>28022</th>\n",
       "      <td>0.00000</td>\n",
       "      <td>0.025259</td>\n",
       "      <td>0.011291</td>\n",
       "      <td>0.025246</td>\n",
       "      <td>0.000000</td>\n",
       "      <td>0.000000</td>\n",
       "      <td>0.000000</td>\n",
       "      <td>0.041028</td>\n",
       "      <td>0.0</td>\n",
       "      <td>0.000000</td>\n",
       "      <td>...</td>\n",
       "      <td>0.010762</td>\n",
       "      <td>0.000000</td>\n",
       "      <td>0.011189</td>\n",
       "      <td>0.012708</td>\n",
       "      <td>0.013397</td>\n",
       "      <td>0.000000</td>\n",
       "      <td>0.000000</td>\n",
       "      <td>0.036320</td>\n",
       "      <td>0.012118</td>\n",
       "      <td>0.011592</td>\n",
       "    </tr>\n",
       "  </tbody>\n",
       "</table>\n",
       "<p>26488 rows × 1000 columns</p>\n",
       "</div>"
      ],
      "text/plain": [
       "           0         1         2         3         4         5         6    \\\n",
       "index                                                                        \n",
       "13054  0.00461  0.002946  0.000000  0.005890  0.000000  0.007715  0.005046   \n",
       "11935  0.00000  0.029210  0.000000  0.014598  0.017957  0.057360  0.012507   \n",
       "32040  0.00000  0.025057  0.011200  0.025044  0.000000  0.000000  0.000000   \n",
       "26681  0.00000  0.025181  0.011256  0.025168  0.000000  0.000000  0.000000   \n",
       "14616  0.00000  0.000000  0.000000  0.000000  0.000000  0.000000  0.000000   \n",
       "...        ...       ...       ...       ...       ...       ...       ...   \n",
       "12876  0.00000  0.000000  0.000000  0.014219  0.000000  0.000000  0.000000   \n",
       "2964   0.00000  0.000000  0.000000  0.000000  0.000000  0.000000  0.064537   \n",
       "14426  0.00000  0.000000  0.000000  0.000000  0.000000  0.000000  0.014701   \n",
       "9181   0.00000  0.000000  0.000000  0.000000  0.000000  0.000000  0.000000   \n",
       "28022  0.00000  0.025259  0.011291  0.025246  0.000000  0.000000  0.000000   \n",
       "\n",
       "            7    8         9    ...       990       991       992       993  \\\n",
       "index                           ...                                           \n",
       "13054  0.003191  0.0  0.004665  ...  0.000000  0.000000  0.007832  0.000000   \n",
       "11935  0.000000  0.0  0.000000  ...  0.024890  0.045663  0.000000  0.014696   \n",
       "32040  0.040700  0.0  0.000000  ...  0.010675  0.000000  0.011100  0.012606   \n",
       "26681  0.040902  0.0  0.000000  ...  0.010729  0.000000  0.011155  0.012669   \n",
       "14616  0.000000  0.0  0.000000  ...  0.000000  0.000000  0.000000  0.000000   \n",
       "...         ...  ...       ...  ...       ...       ...       ...       ...   \n",
       "12876  0.000000  0.0  0.000000  ...  0.000000  0.000000  0.012605  0.014315   \n",
       "2964   0.000000  0.0  0.000000  ...  0.032110  0.000000  0.000000  0.000000   \n",
       "14426  0.018590  0.0  0.000000  ...  0.014629  0.004473  0.011408  0.008637   \n",
       "9181   0.000000  0.0  0.000000  ...  0.000000  0.000000  0.000000  0.000000   \n",
       "28022  0.041028  0.0  0.000000  ...  0.010762  0.000000  0.011189  0.012708   \n",
       "\n",
       "            994       995       996       997       998       999  \n",
       "index                                                              \n",
       "13054  0.000000  0.006878  0.000000  0.000000  0.002827  0.002705  \n",
       "11935  0.000000  0.017047  0.000000  0.000000  0.000000  0.000000  \n",
       "32040  0.013290  0.000000  0.000000  0.036030  0.012021  0.011500  \n",
       "26681  0.013356  0.000000  0.000000  0.036209  0.012081  0.011557  \n",
       "14616  0.000000  0.000000  0.000000  0.000000  0.000000  0.379791  \n",
       "...         ...       ...       ...       ...       ...       ...  \n",
       "12876  0.000000  0.000000  0.014933  0.000000  0.000000  0.013059  \n",
       "2964   0.000000  0.000000  0.000000  0.000000  0.000000  0.000000  \n",
       "14426  0.027317  0.030057  0.009010  0.008229  0.000000  0.003940  \n",
       "9181   0.000000  0.000000  0.000000  0.000000  0.000000  0.000000  \n",
       "28022  0.013397  0.000000  0.000000  0.036320  0.012118  0.011592  \n",
       "\n",
       "[26488 rows x 1000 columns]"
      ]
     },
     "execution_count": 22,
     "metadata": {},
     "output_type": "execute_result"
    }
   ],
   "source": [
    "X_train"
   ]
  },
  {
   "cell_type": "code",
   "execution_count": 23,
   "id": "09e8fc2c",
   "metadata": {},
   "outputs": [],
   "source": [
    "from imblearn.over_sampling import RandomOverSampler\n",
    "from sklearn.datasets import make_classification\n",
    "from sklearn.model_selection import train_test_split\n",
    "\n",
    "X_train.columns = X_train.columns.astype(str)\n",
    "\n",
    "\n",
    "ros = RandomOverSampler(sampling_strategy='auto', random_state=42)\n",
    "X_train_resampled, y_train_resampled = ros.fit_resample(X_train, y_train_encoded)"
   ]
  },
  {
   "cell_type": "code",
   "execution_count": 25,
   "id": "9690e65b",
   "metadata": {},
   "outputs": [
    {
     "name": "stderr",
     "output_type": "stream",
     "text": [
      "C:\\Users\\luciana.angrisano\\Anaconda3\\lib\\site-packages\\sklearn\\base.py:465: UserWarning: X does not have valid feature names, but GaussianNB was fitted with feature names\n",
      "  warnings.warn(\n"
     ]
    },
    {
     "name": "stdout",
     "output_type": "stream",
     "text": [
      "Acurácia do modelo Naive Bayes: 0.8121697116110524\n"
     ]
    }
   ],
   "source": [
    "from sklearn.naive_bayes import GaussianNB\n",
    "from sklearn.metrics import accuracy_score\n",
    "\n",
    "# Instancia o modelo Naive Bayes\n",
    "model_naive_bayes_resampled = GaussianNB()\n",
    "\n",
    "# Treina o modelo Naive Bayes\n",
    "model_naive_bayes_resampled.fit(X_train_resampled, y_train_resampled)\n",
    "\n",
    "y_test_encoded = label_encoder.transform(y_test)\n",
    "\n",
    "# Realiza previsões no conjunto de treinamento\n",
    "y_pred_train = model_naive_bayes_resampled.predict(X_test)\n",
    "\n",
    "# Avalia o modelo Naive Bayes\n",
    "accuracy = accuracy_score(y_test_encoded,y_pred_train)\n",
    "print(f\"Acurácia do modelo Naive Bayes: {accuracy}\")\n"
   ]
  },
  {
   "cell_type": "code",
   "execution_count": 26,
   "id": "94dc91fd",
   "metadata": {},
   "outputs": [
    {
     "name": "stderr",
     "output_type": "stream",
     "text": [
      "C:\\Users\\luciana.angrisano\\Anaconda3\\lib\\site-packages\\sklearn\\base.py:465: UserWarning: X does not have valid feature names, but GaussianNB was fitted with feature names\n",
      "  warnings.warn(\n"
     ]
    },
    {
     "name": "stdout",
     "output_type": "stream",
     "text": [
      "0.7300742062530725\n"
     ]
    }
   ],
   "source": [
    "print(balanced_accuracy_score(y_test_encoded, model_naive_bayes_resampled.predict(X_test)))"
   ]
  },
  {
   "cell_type": "code",
   "execution_count": 27,
   "id": "336eaea4",
   "metadata": {},
   "outputs": [
    {
     "name": "stderr",
     "output_type": "stream",
     "text": [
      "C:\\Users\\luciana.angrisano\\Anaconda3\\lib\\site-packages\\sklearn\\base.py:465: UserWarning: X does not have valid feature names, but GaussianNB was fitted with feature names\n",
      "  warnings.warn(\n"
     ]
    },
    {
     "name": "stdout",
     "output_type": "stream",
     "text": [
      "              precision    recall  f1-score   support\n",
      "\n",
      "           0       0.41      0.74      0.53        73\n",
      "           1       0.98      0.81      0.89      2645\n",
      "           2       0.43      0.81      0.56       222\n",
      "           3       0.54      0.81      0.65       123\n",
      "           4       0.05      0.71      0.09         7\n",
      "           5       0.94      0.83      0.88       390\n",
      "           6       0.68      0.74      0.71       752\n",
      "           7       0.94      0.84      0.88      2400\n",
      "           8       0.01      0.27      0.02        11\n",
      "\n",
      "    accuracy                           0.81      6623\n",
      "   macro avg       0.55      0.73      0.58      6623\n",
      "weighted avg       0.89      0.81      0.84      6623\n",
      "\n"
     ]
    }
   ],
   "source": [
    "print(classification_report(y_test_encoded, model_naive_bayes_resampled.predict(X_test)))\n"
   ]
  },
  {
   "cell_type": "code",
   "execution_count": 28,
   "id": "df9393bb",
   "metadata": {},
   "outputs": [
    {
     "name": "stderr",
     "output_type": "stream",
     "text": [
      "C:\\Users\\luciana.angrisano\\Anaconda3\\lib\\site-packages\\sklearn\\base.py:465: UserWarning: X does not have valid feature names, but GaussianNB was fitted with feature names\n",
      "  warnings.warn(\n",
      "C:\\Users\\luciana.angrisano\\Anaconda3\\lib\\site-packages\\sklearn\\base.py:465: UserWarning: X does not have valid feature names, but GaussianNB was fitted with feature names\n",
      "  warnings.warn(\n"
     ]
    },
    {
     "data": {
      "text/plain": [
       "<Figure size 1000x800 with 0 Axes>"
      ]
     },
     "metadata": {},
     "output_type": "display_data"
    },
    {
     "data": {
      "image/png": "[encoded data removed]",
      "text/plain": [
       "<Figure size 640x480 with 2 Axes>"
      ]
     },
     "metadata": {},
     "output_type": "display_data"
    }
   ],
   "source": [
    "# Calcula a matriz de confusão\n",
    "\n",
    "cm = confusion_matrix(y_test_encoded, model_naive_bayes_resampled.predict(X_test))\n",
    "\n",
    "\n",
    "# Define o tamanho do gráfico\n",
    "plt.figure(figsize=(10, 8))\n",
    "\n",
    "# Cria o objeto ConfusionMatrixDisplay\n",
    "cmd = ConfusionMatrixDisplay.from_estimator(model_naive_bayes_resampled,X_test, y_test_encoded, display_labels=y_test.unique(), cmap=\"Blues\",  xticks_rotation=\"vertical\")\n",
    "\n",
    "\n",
    "\n",
    "# Adiciona rótulos aos eixos\n",
    "plt.xlabel(\"Previsto\")\n",
    "plt.ylabel(\"Real\")\n",
    "plt.title(\"Matriz de Confusão\")\n",
    "\n",
    "# Mostra o gráfico\n",
    "plt.show()"
   ]
  },
  {
   "cell_type": "code",
   "execution_count": null,
   "id": "2fe7a133",
   "metadata": {},
   "outputs": [],
   "source": []
  }
 ],
 "metadata": {
  "kernelspec": {
   "display_name": "Python 3 (ipykernel)",
   "language": "python",
   "name": "python3"
  },
  "language_info": {
   "codemirror_mode": {
    "name": "ipython",
    "version": 3
   },
   "file_extension": ".py",
   "mimetype": "text/x-python",
   "name": "python",
   "nbconvert_exporter": "python",
   "pygments_lexer": "ipython3",
   "version": "3.9.18"
  }
 },
 "nbformat": 4,
 "nbformat_minor": 5
}
